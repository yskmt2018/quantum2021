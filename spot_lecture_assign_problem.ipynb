{
  "nbformat": 4,
  "nbformat_minor": 0,
  "metadata": {
    "colab": {
      "name": "spot_lecture_assign_problem.ipynb",
      "provenance": [],
      "collapsed_sections": [],
      "authorship_tag": "ABX9TyOWiSCgscZ+hlvtVReYre6/",
      "include_colab_link": true
    },
    "kernelspec": {
      "name": "python3",
      "display_name": "Python 3"
    },
    "language_info": {
      "name": "python"
    },
    "accelerator": "TPU"
  },
  "cells": [
    {
      "cell_type": "markdown",
      "metadata": {
        "id": "view-in-github",
        "colab_type": "text"
      },
      "source": [
        "<a href=\"https://colab.research.google.com/github/yskmt2018/quantum2021/blob/main/spot_lecture_assign_problem.ipynb\" target=\"_parent\"><img src=\"https://colab.research.google.com/assets/colab-badge.svg\" alt=\"Open In Colab\"/></a>"
      ]
    },
    {
      "cell_type": "markdown",
      "metadata": {
        "id": "opBlB_ceRyLn"
      },
      "source": [
        "# スポット講義割り当て問題 - Spot Lecture Assign Problem\n",
        "- This notebook was created and tested on Google Colaboratory. (2021/06)"
      ]
    },
    {
      "cell_type": "code",
      "metadata": {
        "id": "_SAq2WmUS6cT",
        "colab": {
          "base_uri": "https://localhost:8080/"
        },
        "outputId": "bd8a103e-c086-433a-841c-e0a9fddc1a5b"
      },
      "source": [
        "!python -V\n",
        "!pip install --quiet pyqubo==1.0.12 openjij==0.3.5"
      ],
      "execution_count": 1,
      "outputs": [
        {
          "output_type": "stream",
          "text": [
            "Python 3.7.10\n"
          ],
          "name": "stdout"
        }
      ]
    },
    {
      "cell_type": "code",
      "metadata": {
        "id": "QYQ0flUfRidg"
      },
      "source": [
        "import re\n",
        "import numpy as np\n",
        "import pandas as pd\n",
        "import pyqubo as pq\n",
        "import openjij as oj\n",
        "from IPython.display import display_html\n",
        "np.random.seed(0)"
      ],
      "execution_count": 2,
      "outputs": []
    },
    {
      "cell_type": "markdown",
      "metadata": {
        "id": "QD53iCNbRD3n"
      },
      "source": [
        "## 目次\n",
        "\n",
        "1. 目的\n",
        "2. 問題設定\n",
        "3. 定式化\n",
        "4. Hamiltonian & QUBO\n",
        "5. (疑似)量子アニーリング\n",
        "6. 可視化\n",
        "7. 振り返り・展望"
      ]
    },
    {
      "cell_type": "markdown",
      "metadata": {
        "id": "OKdVcrWxQ1OD"
      },
      "source": [
        "## 1. 目的\n",
        "\n",
        "- スポット講義における「講師の割り当て」問題について、組合せ最適化問題として定式化し、(疑似)量子アニーリングを用いて解を得る。"
      ]
    },
    {
      "cell_type": "markdown",
      "metadata": {
        "id": "7LYs0qAHKJzJ"
      },
      "source": [
        "## 2. 問題設定\n",
        "\n",
        "今回は、以下の条件を適用する。\n",
        "\n",
        "- 講師数、講義数、各講義の人数は、2020年度スポット講義の実績値を利用する。\n",
        "- 各講師は、第1～第3希望を出す。できるだけ高い希望の講義に選ばれるようにする。\n",
        "- 各講師は、希望しない講義を2つ出す。希望しない講義に選ばれてはならない。\n",
        "- 各講師は、2つ以上の講義を受け持ってはならない。また、講師全員が何らかの講義を担当しなくてはならない。\n",
        "- 各講義の定員を満たさなくてはならない。"
      ]
    },
    {
      "cell_type": "code",
      "metadata": {
        "id": "S99LkHIDUa41"
      },
      "source": [
        "# 講師数(2020年度実績)\n",
        "Tn = 38\n",
        "# 講義数(2020年度実績)\n",
        "Sn = 9"
      ],
      "execution_count": 3,
      "outputs": []
    },
    {
      "cell_type": "code",
      "metadata": {
        "id": "zhBkNz72RKnG",
        "colab": {
          "base_uri": "https://localhost:8080/"
        },
        "outputId": "b9ec97cf-aef3-4aca-9b31-ab26fe770eeb"
      },
      "source": [
        "# 講師のリスト\n",
        "T = list(range(Tn))\n",
        "print(T)"
      ],
      "execution_count": 4,
      "outputs": [
        {
          "output_type": "stream",
          "text": [
            "[0, 1, 2, 3, 4, 5, 6, 7, 8, 9, 10, 11, 12, 13, 14, 15, 16, 17, 18, 19, 20, 21, 22, 23, 24, 25, 26, 27, 28, 29, 30, 31, 32, 33, 34, 35, 36, 37]\n"
          ],
          "name": "stdout"
        }
      ]
    },
    {
      "cell_type": "code",
      "metadata": {
        "id": "OGLWkv0mTKv3",
        "colab": {
          "base_uri": "https://localhost:8080/"
        },
        "outputId": "bebb9fbe-8de2-4bb0-d268-08f83ab928fe"
      },
      "source": [
        "# 講義のリスト\n",
        "S = list(range(Sn))\n",
        "print(S)"
      ],
      "execution_count": 5,
      "outputs": [
        {
          "output_type": "stream",
          "text": [
            "[0, 1, 2, 3, 4, 5, 6, 7, 8]\n"
          ],
          "name": "stdout"
        }
      ]
    },
    {
      "cell_type": "code",
      "metadata": {
        "id": "fd5gJTwpVwoX",
        "colab": {
          "base_uri": "https://localhost:8080/"
        },
        "outputId": "122f3e2f-bd58-4290-d956-b5bd8c108acd"
      },
      "source": [
        "# 各講義の参加人数\n",
        "Sn_s = np.full(shape=Sn, fill_value=4, dtype=np.int)\n",
        "# 人数が4名の講義が7個、5名の講義が2個(2020年度実績)\n",
        "Sn_s[3] = 5\n",
        "Sn_s[7] = 5\n",
        "print(Sn_s)"
      ],
      "execution_count": 6,
      "outputs": [
        {
          "output_type": "stream",
          "text": [
            "[4 4 4 5 4 4 4 5 4]\n"
          ],
          "name": "stdout"
        }
      ]
    },
    {
      "cell_type": "code",
      "metadata": {
        "id": "wV9Pj0cJX9VA",
        "colab": {
          "base_uri": "https://localhost:8080/"
        },
        "outputId": "79b127a5-a2c7-4d47-e45b-5bc4dba8917b"
      },
      "source": [
        "# 各講師の希望する講義をランダム選択: 第1-3希望に3-1点, その他:-1点\n",
        "C_ts = np.full(shape=(Tn, Sn), fill_value=-1, dtype=np.int)\n",
        "for t in T:\n",
        "  # 希望する講義を S から 3 個ランダムに選択する。replace=False で重複なし\n",
        "  hopes = np.random.choice(S, size=3, replace=False)\n",
        "  C_ts[t][hopes] = [3, 2, 1]\n",
        "print(C_ts)"
      ],
      "execution_count": 7,
      "outputs": [
        {
          "output_type": "stream",
          "text": [
            "[[-1  1  2 -1 -1 -1 -1  3 -1]\n",
            " [-1  2 -1  3 -1 -1 -1  1 -1]\n",
            " [-1 -1  2  1 -1  3 -1 -1 -1]\n",
            " [-1 -1  3 -1 -1 -1  2  1 -1]\n",
            " [-1 -1 -1 -1  1  3 -1  2 -1]\n",
            " [-1 -1  3 -1 -1 -1 -1  1  2]\n",
            " [ 1  3 -1 -1 -1 -1 -1 -1  2]\n",
            " [-1  1  2  3 -1 -1 -1 -1 -1]\n",
            " [-1 -1 -1  1 -1  2 -1 -1  3]\n",
            " [-1  2 -1 -1  3  1 -1 -1 -1]\n",
            " [ 1 -1 -1 -1 -1 -1  3 -1  2]\n",
            " [-1  3  2 -1 -1  1 -1 -1 -1]\n",
            " [-1 -1 -1 -1 -1 -1  2  1  3]\n",
            " [-1 -1 -1 -1  3 -1  1 -1  2]\n",
            " [-1 -1 -1 -1  3 -1  2 -1  1]\n",
            " [-1 -1 -1 -1  1 -1  3  2 -1]\n",
            " [ 3 -1 -1 -1 -1  2 -1 -1  1]\n",
            " [ 3 -1 -1 -1 -1  2 -1  1 -1]\n",
            " [-1 -1 -1 -1 -1 -1  1  3  2]\n",
            " [-1  2 -1 -1  1  3 -1 -1 -1]\n",
            " [-1 -1  1  2 -1 -1 -1  3 -1]\n",
            " [-1  3 -1 -1 -1 -1 -1  1  2]\n",
            " [-1 -1 -1 -1 -1  3 -1  2  1]\n",
            " [ 3  1 -1 -1 -1 -1  2 -1 -1]\n",
            " [-1 -1  3  1  2 -1 -1 -1 -1]\n",
            " [-1 -1  2 -1  3 -1 -1 -1  1]\n",
            " [-1  1  3 -1  2 -1 -1 -1 -1]\n",
            " [ 2 -1  1 -1 -1 -1 -1  3 -1]\n",
            " [-1  3 -1 -1  1 -1  2 -1 -1]\n",
            " [-1  3  2 -1  1 -1 -1 -1 -1]\n",
            " [ 1  3  2 -1 -1 -1 -1 -1 -1]\n",
            " [ 3 -1  2 -1 -1 -1  1 -1 -1]\n",
            " [ 2 -1  1 -1  3 -1 -1 -1 -1]\n",
            " [ 3 -1 -1 -1 -1  1 -1  2 -1]\n",
            " [ 2 -1 -1  1 -1 -1  3 -1 -1]\n",
            " [-1 -1  1 -1 -1 -1 -1  3  2]\n",
            " [-1 -1  3  2 -1 -1 -1 -1  1]\n",
            " [-1  1  2 -1 -1 -1 -1  3 -1]]\n"
          ],
          "name": "stdout"
        }
      ]
    },
    {
      "cell_type": "code",
      "metadata": {
        "id": "BvwX6AI63KZ7",
        "colab": {
          "base_uri": "https://localhost:8080/"
        },
        "outputId": "39e65c53-e998-409a-dc6e-67ffddf9bb77"
      },
      "source": [
        "# 各講師の希望しない講義をランダム選択: 対象の講義に1, それ以外:0\n",
        "NG_ts = np.zeros(shape=(Tn, Sn), dtype=np.int)\n",
        "for t in T:\n",
        "  # 希望しない講義を C_ts で -1 となっている講義から 2 個ランダムに選択する。replace=False で重複なし\n",
        "  ng = np.random.choice(np.where(C_ts[t] == -1)[0], size=2, replace=False)\n",
        "  NG_ts[t][ng] = [1, 1]\n",
        "print(NG_ts)"
      ],
      "execution_count": 8,
      "outputs": [
        {
          "output_type": "stream",
          "text": [
            "[[1 0 0 1 0 0 0 0 0]\n",
            " [1 0 0 0 0 1 0 0 0]\n",
            " [1 0 0 0 0 0 0 0 1]\n",
            " [1 0 0 0 0 0 0 0 1]\n",
            " [1 0 0 0 0 0 1 0 0]\n",
            " [1 0 0 1 0 0 0 0 0]\n",
            " [0 0 1 0 0 1 0 0 0]\n",
            " [0 0 0 0 0 1 0 0 1]\n",
            " [0 1 0 0 1 0 0 0 0]\n",
            " [0 0 1 1 0 0 0 0 0]\n",
            " [0 0 1 0 0 1 0 0 0]\n",
            " [0 0 0 0 0 0 1 1 0]\n",
            " [0 1 1 0 0 0 0 0 0]\n",
            " [0 1 0 0 0 0 0 1 0]\n",
            " [0 1 0 1 0 0 0 0 0]\n",
            " [0 1 0 0 0 0 0 0 1]\n",
            " [0 0 0 1 1 0 0 0 0]\n",
            " [0 1 0 0 1 0 0 0 0]\n",
            " [1 0 1 0 0 0 0 0 0]\n",
            " [1 0 1 0 0 0 0 0 0]\n",
            " [0 1 0 0 0 0 0 0 1]\n",
            " [1 0 0 0 0 1 0 0 0]\n",
            " [0 1 0 0 1 0 0 0 0]\n",
            " [0 0 1 0 0 0 0 0 1]\n",
            " [1 0 0 0 0 0 0 0 1]\n",
            " [0 1 0 1 0 0 0 0 0]\n",
            " [0 0 0 0 0 0 1 1 0]\n",
            " [0 0 0 0 0 1 0 0 1]\n",
            " [0 0 0 0 0 1 0 1 0]\n",
            " [1 0 0 0 0 0 1 0 0]\n",
            " [0 0 0 1 0 1 0 0 0]\n",
            " [0 1 0 0 1 0 0 0 0]\n",
            " [0 1 0 0 0 1 0 0 0]\n",
            " [0 0 1 1 0 0 0 0 0]\n",
            " [0 0 1 0 0 0 0 0 1]\n",
            " [0 0 0 1 0 0 1 0 0]\n",
            " [0 0 0 0 0 1 1 0 0]\n",
            " [0 0 0 1 1 0 0 0 0]]\n"
          ],
          "name": "stdout"
        }
      ]
    },
    {
      "cell_type": "markdown",
      "metadata": {
        "id": "Mz_twCIlUptZ"
      },
      "source": [
        "## 3. 定式化\n",
        "\n",
        "- 「目的関数」と「制約項」を作成する。\n",
        "- 目的関数が「最大(最小)化する指標」を、制約項が「遵守させる条件」を表現する。\n",
        "- 制約項は、制約違反がない場合0を返す。0でない場合、ハミルトニアン(後述)のエネルギーが極端に大きく(不安定な状態に)なるため、制約を守るように作用する。"
      ]
    },
    {
      "cell_type": "markdown",
      "metadata": {
        "id": "UpwKtMOTfQ48"
      },
      "source": [
        "### 目的関数\n",
        "\n",
        "- 各講師の希望(を元にした点数の総和)の最大化を目指す。\n",
        " - 各講師の点数が C [ t ][ s ] * x [ t ][ s ] であり、その総和(全員の点数の合計)を算出する。\n",
        " - 目的関数はコスト関数とも呼ばれ、この関数の出力が小さいほど優れた解である。そのため、最大化問題の際には結果に-1を乗し、優れた解であるほど出力を小さくする必要がある。\n",
        "\n",
        "$$\n",
        "maximize \\sum_{t \\in_{T}, s \\in_{S}} (C_{ts} * x_{ts})\n",
        "$$"
      ]
    },
    {
      "cell_type": "code",
      "metadata": {
        "id": "DHkpQrBRaLRV"
      },
      "source": [
        "def objective(x):\n",
        "  H = sum(C_ts[t][s] * x[t][s] for t in T for s in S)\n",
        "  # 最大化のため\n",
        "  return H * (-1)"
      ],
      "execution_count": 9,
      "outputs": []
    },
    {
      "cell_type": "markdown",
      "metadata": {
        "id": "RyNedUKBhK4G"
      },
      "source": [
        "### 制約項 1. 受け持つ講義は1つ\n",
        "\n",
        "- 各講師の受け持つ講義は1つであることを課す。\n",
        "  - 各講師の受け持つ講義の数が sum( x [ t ][ s ] for s in S ) であり、全ての講師 t∈T について、この数が1でなくてはならない。\n",
        "\n",
        "$$\n",
        "\\forall_{t \\in_{T}}, \\sum_{s \\in_{S}} x_{ts} = 1\n",
        "$$"
      ]
    },
    {
      "cell_type": "code",
      "metadata": {
        "id": "V6htpTCXhKAi"
      },
      "source": [
        "def constraint_onlyone(x):\n",
        "  # 制約違反の場合、必ず正の値を返す必要があるため、2乗\n",
        "  return sum(\n",
        "      (sum(x[t][s] for s in S) - 1)**2 for t in T\n",
        "  )"
      ],
      "execution_count": 10,
      "outputs": []
    },
    {
      "cell_type": "markdown",
      "metadata": {
        "id": "5nosjM3wjm4j"
      },
      "source": [
        "### 制約項 2. 定員\n",
        "\n",
        "- 各講義の定員が満たされることを課す。\n",
        "  - 各講義の参加人数が sum( x [ t ][ s ] for t in T ) であり、全ての講義 s∈S について、この数が各講義の参加人数( Sn [ s ] )と一致しなくてはならない。 \n",
        "\n",
        "$$\n",
        "\\forall_{s \\in_{S}}, \\sum_{t \\in_{T}} x_{ts} = Sn_{s}\n",
        "$$"
      ]
    },
    {
      "cell_type": "code",
      "metadata": {
        "id": "jsRtjv12jlxJ"
      },
      "source": [
        "def constraint_capacity(x):\n",
        "  # 制約違反の場合、必ず正の値を返す必要があるため、2乗\n",
        "  return sum(\n",
        "      (sum(x[t][s] for t in T) - Sn_s[s])**2 for s in S\n",
        "  )"
      ],
      "execution_count": 11,
      "outputs": []
    },
    {
      "cell_type": "markdown",
      "metadata": {
        "id": "Xe4t06fE56J4"
      },
      "source": [
        "### 制約項 3. 希望しない講義に割り当てない\n",
        "\n",
        "- 各講師を希望しない講義に割り当てないことを課す。\n",
        "  - NG [ t ][ s ] * x [ t ][ s ] は、希望しない講義に割り当てられた場合1となる。全ての講師 t∈T について、この数が0でなくてはならない。\n",
        "\n",
        "$$\n",
        "\\forall_{t \\in_{T}}, \\sum_{s \\in_{S}} NG_{ts} * x_{ts} = 0\n",
        "$$"
      ]
    },
    {
      "cell_type": "code",
      "metadata": {
        "id": "mRbApn6-6WOt"
      },
      "source": [
        "def constraint_unwanted(x):\n",
        "  return sum(\n",
        "      sum(NG_ts[t][s] * x[t][s] for s in S) for t in T\n",
        "  )"
      ],
      "execution_count": 12,
      "outputs": []
    },
    {
      "cell_type": "markdown",
      "metadata": {
        "id": "Ileofz4XU4za"
      },
      "source": [
        "## 4. Hamiltonian & QUBO\n",
        "\n",
        "- ライブラリを利用して、Hamiltonian(ハミルトニアン)を構築し、QUBO(キューボ)に変換する。ここでは、【[PyQUBO](https://github.com/recruit-communications/pyqubo)】を利用する。\n",
        "- 利用できるライブラリとして、他に【[JijModeling](https://jijmodeling-docs.jij-cloud.com/)】がある。"
      ]
    },
    {
      "cell_type": "markdown",
      "metadata": {
        "id": "EzE6PMyNl6K7"
      },
      "source": [
        "### Hamiltonian\n",
        "\n",
        "- 定式化した目的関数、制約項を結合し、Hamiltonianと呼ばれる、本問題のエネルギーに対応する物理量を表現する。\n",
        "- 各制約項には、重み係数としてλ(ラムダ)が掛け合わされる。制約項が0以外の値を返却(制約違反)した場合、係数が高い程、重いペナルティが課される。\n",
        "\n",
        "$$\n",
        "H = - \\sum_{t \\in_{T}, s \\in_{S}} (C_{ts} * x_{ts})\n",
        "+ \\lambda_0 \\sum_{t \\in_{T}}(\\sum_{s \\in_{S}} x_{ts} - 1)^2\n",
        "+ \\lambda_1 \\sum_{s \\in_{S}}(\\sum_{t \\in_{T}} x_{ts} - Sn_{s})^2\n",
        "+ \\lambda_2 \\sum_{t \\in_{T}}(\\sum_{s \\in_{S}} NG_{ts} * x_{ts})\n",
        "$$"
      ]
    },
    {
      "cell_type": "code",
      "metadata": {
        "id": "5eUgm8oSoIsT"
      },
      "source": [
        "# 講師t∈Tが講義s∈Sを担当するかどうかの目的変数\n",
        "# 今回は38人9講義で38*9=342変数\n",
        "x_ts = pq.Array.create(name='x', shape=(Tn, Sn), vartype='BINARY')\n",
        "\n",
        "# Hamiltonianの構築\n",
        "H = objective(x_ts)\n",
        "\n",
        "H += pq.Placeholder(label='lambda_0') * pq.Constraint(\n",
        "    hamiltonian=constraint_onlyone(x_ts), label='lambda_0')\n",
        "\n",
        "H += pq.Placeholder(label='lambda_1') * pq.Constraint(\n",
        "    hamiltonian=constraint_capacity(x_ts), label='lambda_1')\n",
        "\n",
        "H += pq.Placeholder(label='lambda_2') * pq.Constraint(\n",
        "    hamiltonian=constraint_unwanted(x_ts), label='lambda_2')"
      ],
      "execution_count": 13,
      "outputs": []
    },
    {
      "cell_type": "code",
      "metadata": {
        "id": "OYAlhj8zoJpQ",
        "colab": {
          "base_uri": "https://localhost:8080/"
        },
        "outputId": "0c9e8ac0-e22b-4040-bc3c-a6175bc13091"
      },
      "source": [
        "# 各制約項の重み係数を設定\n",
        "feed_dict = {key: 100 for key in ['lambda_0', 'lambda_1', 'lambda_2']}\n",
        "print(feed_dict)"
      ],
      "execution_count": 14,
      "outputs": [
        {
          "output_type": "stream",
          "text": [
            "{'lambda_0': 100, 'lambda_1': 100, 'lambda_2': 100}\n"
          ],
          "name": "stdout"
        }
      ]
    },
    {
      "cell_type": "markdown",
      "metadata": {
        "id": "kFg6QirVqpqu"
      },
      "source": [
        "### QUBO (Quadratic Unconstrained Binary Optimization)\n",
        "\n",
        "- QUBOは、組合せ最適化問題の表現形式であり、(疑似)量子アニーリングで問題を解くことができるようになる。\n",
        "- HamiltonianからQUBOへの変換は、PyQUBOのAPIを利用する。"
      ]
    },
    {
      "cell_type": "code",
      "metadata": {
        "id": "rsh8jpjHp1Wh"
      },
      "source": [
        "# QUBOへの変換\n",
        "model = H.compile()\n",
        "qubo, _ = model.to_qubo(feed_dict=feed_dict)"
      ],
      "execution_count": 15,
      "outputs": []
    },
    {
      "cell_type": "markdown",
      "metadata": {
        "id": "G_2dahiVql12"
      },
      "source": [
        "## 5. (疑似)量子アニーリング\n",
        "\n",
        "- ライブラリを利用して、(疑似)量子アニーリングを実行する。ここでは、【[OpenJij](https://github.com/OpenJij/OpenJij)】を利用する。\n",
        "- 利用できるライブラリ・環境として、他に【[D-Wave](https://docs.ocean.dwavesys.com/en/stable/index.html)】がある。"
      ]
    },
    {
      "cell_type": "code",
      "metadata": {
        "id": "5wv1fxt9xB6D"
      },
      "source": [
        "# SQA(Simulated Quantum Annealing)実行モジュール\n",
        "# num_reads: サンプリング回数, num_sweeps: サンプリング時間\n",
        "sampler = oj.SQASampler(num_reads=100, num_sweeps=1000, trotter=20)"
      ],
      "execution_count": 16,
      "outputs": []
    },
    {
      "cell_type": "code",
      "metadata": {
        "id": "AU63sAz7trc6",
        "colab": {
          "base_uri": "https://localhost:8080/"
        },
        "outputId": "a71d1f79-ddf0-4abc-8226-3ff446dff1e3"
      },
      "source": [
        "%%time\n",
        "# (疑似)量子アニーリング実行\n",
        "sampleset = sampler.sample_qubo(Q=qubo)"
      ],
      "execution_count": 17,
      "outputs": [
        {
          "output_type": "stream",
          "text": [
            "CPU times: user 1min 18s, sys: 321 ms, total: 1min 18s\n",
            "Wall time: 41.1 s\n"
          ],
          "name": "stdout"
        }
      ]
    },
    {
      "cell_type": "code",
      "metadata": {
        "id": "vBrmoaRxs2zp",
        "colab": {
          "base_uri": "https://localhost:8080/"
        },
        "outputId": "9442a31f-349f-49e2-b6e9-15fe69ed2e57"
      },
      "source": [
        "# 実行結果をデコード\n",
        "decoded = model.decode_sampleset(sampleset=sampleset, feed_dict=feed_dict)\n",
        "# 最良解(最もエネルギーの小さい解)を抽出\n",
        "best = min(decoded, key=lambda d: d.energy)\n",
        "# 最良解が全制約を満たしているか確認\n",
        "assert best.constraints(only_broken=True) == {}\n",
        "# 最良解のエネルギー\n",
        "print(best.energy)"
      ],
      "execution_count": 18,
      "outputs": [
        {
          "output_type": "stream",
          "text": [
            "-60.0\n"
          ],
          "name": "stdout"
        }
      ]
    },
    {
      "cell_type": "markdown",
      "metadata": {
        "id": "Aqx_TJbhqGnp"
      },
      "source": [
        "## 6. 可視化\n",
        "\n",
        "- 最良解の結果をDataFrameに変換し、表示する。"
      ]
    },
    {
      "cell_type": "code",
      "metadata": {
        "id": "PfTV8CiZbtLE"
      },
      "source": [
        "df_x = pd.DataFrame(data=np.zeros(shape=(Tn, Sn), dtype=np.int),\n",
        "                    index=T, columns=[chr(s+65) for s in S], dtype=int)\n",
        "# 正規表現を用いて、最良解のサンプリング結果をDataFrameに格納\n",
        "for key, value in best.sample.items():\n",
        "  if value == 1:\n",
        "    t_s = re.match(pattern='x\\[(\\d+)\\]\\[(\\d+)\\]', string=key)\n",
        "    t, s = int(t_s.group(1)), int(t_s.group(2))\n",
        "    df_x.iat[t, s] = value"
      ],
      "execution_count": 19,
      "outputs": []
    },
    {
      "cell_type": "code",
      "metadata": {
        "colab": {
          "base_uri": "https://localhost:8080/",
          "height": 838
        },
        "id": "nC6OU_RnSyf3",
        "outputId": "454e73e5-f871-4fd6-bb92-7a034fcf0a32"
      },
      "source": [
        "# 講師 0～37 が講義 A～I の中から1つずつ受け持つ\n",
        "display_html(df_x.style.applymap(lambda x: 'color: red' if x == 1 else 'color: gray')._repr_html_(), raw=True)"
      ],
      "execution_count": 20,
      "outputs": [
        {
          "output_type": "display_data",
          "data": {
            "text/html": [
              "<style  type=\"text/css\" >\n",
              "#T_97ca73e2_d9d0_11eb_b403_0242ac1c0002row0_col0,#T_97ca73e2_d9d0_11eb_b403_0242ac1c0002row0_col1,#T_97ca73e2_d9d0_11eb_b403_0242ac1c0002row0_col2,#T_97ca73e2_d9d0_11eb_b403_0242ac1c0002row0_col3,#T_97ca73e2_d9d0_11eb_b403_0242ac1c0002row0_col4,#T_97ca73e2_d9d0_11eb_b403_0242ac1c0002row0_col5,#T_97ca73e2_d9d0_11eb_b403_0242ac1c0002row0_col6,#T_97ca73e2_d9d0_11eb_b403_0242ac1c0002row0_col8,#T_97ca73e2_d9d0_11eb_b403_0242ac1c0002row1_col0,#T_97ca73e2_d9d0_11eb_b403_0242ac1c0002row1_col1,#T_97ca73e2_d9d0_11eb_b403_0242ac1c0002row1_col2,#T_97ca73e2_d9d0_11eb_b403_0242ac1c0002row1_col3,#T_97ca73e2_d9d0_11eb_b403_0242ac1c0002row1_col4,#T_97ca73e2_d9d0_11eb_b403_0242ac1c0002row1_col5,#T_97ca73e2_d9d0_11eb_b403_0242ac1c0002row1_col6,#T_97ca73e2_d9d0_11eb_b403_0242ac1c0002row1_col8,#T_97ca73e2_d9d0_11eb_b403_0242ac1c0002row2_col0,#T_97ca73e2_d9d0_11eb_b403_0242ac1c0002row2_col1,#T_97ca73e2_d9d0_11eb_b403_0242ac1c0002row2_col2,#T_97ca73e2_d9d0_11eb_b403_0242ac1c0002row2_col4,#T_97ca73e2_d9d0_11eb_b403_0242ac1c0002row2_col5,#T_97ca73e2_d9d0_11eb_b403_0242ac1c0002row2_col6,#T_97ca73e2_d9d0_11eb_b403_0242ac1c0002row2_col7,#T_97ca73e2_d9d0_11eb_b403_0242ac1c0002row2_col8,#T_97ca73e2_d9d0_11eb_b403_0242ac1c0002row3_col0,#T_97ca73e2_d9d0_11eb_b403_0242ac1c0002row3_col1,#T_97ca73e2_d9d0_11eb_b403_0242ac1c0002row3_col3,#T_97ca73e2_d9d0_11eb_b403_0242ac1c0002row3_col4,#T_97ca73e2_d9d0_11eb_b403_0242ac1c0002row3_col5,#T_97ca73e2_d9d0_11eb_b403_0242ac1c0002row3_col6,#T_97ca73e2_d9d0_11eb_b403_0242ac1c0002row3_col7,#T_97ca73e2_d9d0_11eb_b403_0242ac1c0002row3_col8,#T_97ca73e2_d9d0_11eb_b403_0242ac1c0002row4_col0,#T_97ca73e2_d9d0_11eb_b403_0242ac1c0002row4_col1,#T_97ca73e2_d9d0_11eb_b403_0242ac1c0002row4_col2,#T_97ca73e2_d9d0_11eb_b403_0242ac1c0002row4_col3,#T_97ca73e2_d9d0_11eb_b403_0242ac1c0002row4_col4,#T_97ca73e2_d9d0_11eb_b403_0242ac1c0002row4_col6,#T_97ca73e2_d9d0_11eb_b403_0242ac1c0002row4_col7,#T_97ca73e2_d9d0_11eb_b403_0242ac1c0002row4_col8,#T_97ca73e2_d9d0_11eb_b403_0242ac1c0002row5_col0,#T_97ca73e2_d9d0_11eb_b403_0242ac1c0002row5_col1,#T_97ca73e2_d9d0_11eb_b403_0242ac1c0002row5_col2,#T_97ca73e2_d9d0_11eb_b403_0242ac1c0002row5_col3,#T_97ca73e2_d9d0_11eb_b403_0242ac1c0002row5_col4,#T_97ca73e2_d9d0_11eb_b403_0242ac1c0002row5_col5,#T_97ca73e2_d9d0_11eb_b403_0242ac1c0002row5_col6,#T_97ca73e2_d9d0_11eb_b403_0242ac1c0002row5_col7,#T_97ca73e2_d9d0_11eb_b403_0242ac1c0002row6_col0,#T_97ca73e2_d9d0_11eb_b403_0242ac1c0002row6_col1,#T_97ca73e2_d9d0_11eb_b403_0242ac1c0002row6_col2,#T_97ca73e2_d9d0_11eb_b403_0242ac1c0002row6_col3,#T_97ca73e2_d9d0_11eb_b403_0242ac1c0002row6_col4,#T_97ca73e2_d9d0_11eb_b403_0242ac1c0002row6_col5,#T_97ca73e2_d9d0_11eb_b403_0242ac1c0002row6_col6,#T_97ca73e2_d9d0_11eb_b403_0242ac1c0002row6_col7,#T_97ca73e2_d9d0_11eb_b403_0242ac1c0002row7_col0,#T_97ca73e2_d9d0_11eb_b403_0242ac1c0002row7_col1,#T_97ca73e2_d9d0_11eb_b403_0242ac1c0002row7_col2,#T_97ca73e2_d9d0_11eb_b403_0242ac1c0002row7_col4,#T_97ca73e2_d9d0_11eb_b403_0242ac1c0002row7_col5,#T_97ca73e2_d9d0_11eb_b403_0242ac1c0002row7_col6,#T_97ca73e2_d9d0_11eb_b403_0242ac1c0002row7_col7,#T_97ca73e2_d9d0_11eb_b403_0242ac1c0002row7_col8,#T_97ca73e2_d9d0_11eb_b403_0242ac1c0002row8_col0,#T_97ca73e2_d9d0_11eb_b403_0242ac1c0002row8_col1,#T_97ca73e2_d9d0_11eb_b403_0242ac1c0002row8_col2,#T_97ca73e2_d9d0_11eb_b403_0242ac1c0002row8_col3,#T_97ca73e2_d9d0_11eb_b403_0242ac1c0002row8_col4,#T_97ca73e2_d9d0_11eb_b403_0242ac1c0002row8_col5,#T_97ca73e2_d9d0_11eb_b403_0242ac1c0002row8_col6,#T_97ca73e2_d9d0_11eb_b403_0242ac1c0002row8_col8,#T_97ca73e2_d9d0_11eb_b403_0242ac1c0002row9_col0,#T_97ca73e2_d9d0_11eb_b403_0242ac1c0002row9_col1,#T_97ca73e2_d9d0_11eb_b403_0242ac1c0002row9_col2,#T_97ca73e2_d9d0_11eb_b403_0242ac1c0002row9_col3,#T_97ca73e2_d9d0_11eb_b403_0242ac1c0002row9_col5,#T_97ca73e2_d9d0_11eb_b403_0242ac1c0002row9_col6,#T_97ca73e2_d9d0_11eb_b403_0242ac1c0002row9_col7,#T_97ca73e2_d9d0_11eb_b403_0242ac1c0002row9_col8,#T_97ca73e2_d9d0_11eb_b403_0242ac1c0002row10_col0,#T_97ca73e2_d9d0_11eb_b403_0242ac1c0002row10_col1,#T_97ca73e2_d9d0_11eb_b403_0242ac1c0002row10_col2,#T_97ca73e2_d9d0_11eb_b403_0242ac1c0002row10_col3,#T_97ca73e2_d9d0_11eb_b403_0242ac1c0002row10_col4,#T_97ca73e2_d9d0_11eb_b403_0242ac1c0002row10_col5,#T_97ca73e2_d9d0_11eb_b403_0242ac1c0002row10_col6,#T_97ca73e2_d9d0_11eb_b403_0242ac1c0002row10_col7,#T_97ca73e2_d9d0_11eb_b403_0242ac1c0002row11_col0,#T_97ca73e2_d9d0_11eb_b403_0242ac1c0002row11_col1,#T_97ca73e2_d9d0_11eb_b403_0242ac1c0002row11_col2,#T_97ca73e2_d9d0_11eb_b403_0242ac1c0002row11_col3,#T_97ca73e2_d9d0_11eb_b403_0242ac1c0002row11_col4,#T_97ca73e2_d9d0_11eb_b403_0242ac1c0002row11_col5,#T_97ca73e2_d9d0_11eb_b403_0242ac1c0002row11_col6,#T_97ca73e2_d9d0_11eb_b403_0242ac1c0002row11_col7,#T_97ca73e2_d9d0_11eb_b403_0242ac1c0002row12_col0,#T_97ca73e2_d9d0_11eb_b403_0242ac1c0002row12_col1,#T_97ca73e2_d9d0_11eb_b403_0242ac1c0002row12_col2,#T_97ca73e2_d9d0_11eb_b403_0242ac1c0002row12_col3,#T_97ca73e2_d9d0_11eb_b403_0242ac1c0002row12_col4,#T_97ca73e2_d9d0_11eb_b403_0242ac1c0002row12_col5,#T_97ca73e2_d9d0_11eb_b403_0242ac1c0002row12_col6,#T_97ca73e2_d9d0_11eb_b403_0242ac1c0002row12_col8,#T_97ca73e2_d9d0_11eb_b403_0242ac1c0002row13_col0,#T_97ca73e2_d9d0_11eb_b403_0242ac1c0002row13_col1,#T_97ca73e2_d9d0_11eb_b403_0242ac1c0002row13_col2,#T_97ca73e2_d9d0_11eb_b403_0242ac1c0002row13_col3,#T_97ca73e2_d9d0_11eb_b403_0242ac1c0002row13_col4,#T_97ca73e2_d9d0_11eb_b403_0242ac1c0002row13_col5,#T_97ca73e2_d9d0_11eb_b403_0242ac1c0002row13_col7,#T_97ca73e2_d9d0_11eb_b403_0242ac1c0002row13_col8,#T_97ca73e2_d9d0_11eb_b403_0242ac1c0002row14_col0,#T_97ca73e2_d9d0_11eb_b403_0242ac1c0002row14_col1,#T_97ca73e2_d9d0_11eb_b403_0242ac1c0002row14_col2,#T_97ca73e2_d9d0_11eb_b403_0242ac1c0002row14_col3,#T_97ca73e2_d9d0_11eb_b403_0242ac1c0002row14_col4,#T_97ca73e2_d9d0_11eb_b403_0242ac1c0002row14_col5,#T_97ca73e2_d9d0_11eb_b403_0242ac1c0002row14_col7,#T_97ca73e2_d9d0_11eb_b403_0242ac1c0002row14_col8,#T_97ca73e2_d9d0_11eb_b403_0242ac1c0002row15_col0,#T_97ca73e2_d9d0_11eb_b403_0242ac1c0002row15_col1,#T_97ca73e2_d9d0_11eb_b403_0242ac1c0002row15_col2,#T_97ca73e2_d9d0_11eb_b403_0242ac1c0002row15_col3,#T_97ca73e2_d9d0_11eb_b403_0242ac1c0002row15_col5,#T_97ca73e2_d9d0_11eb_b403_0242ac1c0002row15_col6,#T_97ca73e2_d9d0_11eb_b403_0242ac1c0002row15_col7,#T_97ca73e2_d9d0_11eb_b403_0242ac1c0002row15_col8,#T_97ca73e2_d9d0_11eb_b403_0242ac1c0002row16_col1,#T_97ca73e2_d9d0_11eb_b403_0242ac1c0002row16_col2,#T_97ca73e2_d9d0_11eb_b403_0242ac1c0002row16_col3,#T_97ca73e2_d9d0_11eb_b403_0242ac1c0002row16_col4,#T_97ca73e2_d9d0_11eb_b403_0242ac1c0002row16_col5,#T_97ca73e2_d9d0_11eb_b403_0242ac1c0002row16_col6,#T_97ca73e2_d9d0_11eb_b403_0242ac1c0002row16_col7,#T_97ca73e2_d9d0_11eb_b403_0242ac1c0002row16_col8,#T_97ca73e2_d9d0_11eb_b403_0242ac1c0002row17_col0,#T_97ca73e2_d9d0_11eb_b403_0242ac1c0002row17_col1,#T_97ca73e2_d9d0_11eb_b403_0242ac1c0002row17_col2,#T_97ca73e2_d9d0_11eb_b403_0242ac1c0002row17_col3,#T_97ca73e2_d9d0_11eb_b403_0242ac1c0002row17_col4,#T_97ca73e2_d9d0_11eb_b403_0242ac1c0002row17_col6,#T_97ca73e2_d9d0_11eb_b403_0242ac1c0002row17_col7,#T_97ca73e2_d9d0_11eb_b403_0242ac1c0002row17_col8,#T_97ca73e2_d9d0_11eb_b403_0242ac1c0002row18_col0,#T_97ca73e2_d9d0_11eb_b403_0242ac1c0002row18_col1,#T_97ca73e2_d9d0_11eb_b403_0242ac1c0002row18_col2,#T_97ca73e2_d9d0_11eb_b403_0242ac1c0002row18_col3,#T_97ca73e2_d9d0_11eb_b403_0242ac1c0002row18_col4,#T_97ca73e2_d9d0_11eb_b403_0242ac1c0002row18_col5,#T_97ca73e2_d9d0_11eb_b403_0242ac1c0002row18_col7,#T_97ca73e2_d9d0_11eb_b403_0242ac1c0002row18_col8,#T_97ca73e2_d9d0_11eb_b403_0242ac1c0002row19_col0,#T_97ca73e2_d9d0_11eb_b403_0242ac1c0002row19_col1,#T_97ca73e2_d9d0_11eb_b403_0242ac1c0002row19_col2,#T_97ca73e2_d9d0_11eb_b403_0242ac1c0002row19_col4,#T_97ca73e2_d9d0_11eb_b403_0242ac1c0002row19_col5,#T_97ca73e2_d9d0_11eb_b403_0242ac1c0002row19_col6,#T_97ca73e2_d9d0_11eb_b403_0242ac1c0002row19_col7,#T_97ca73e2_d9d0_11eb_b403_0242ac1c0002row19_col8,#T_97ca73e2_d9d0_11eb_b403_0242ac1c0002row20_col0,#T_97ca73e2_d9d0_11eb_b403_0242ac1c0002row20_col1,#T_97ca73e2_d9d0_11eb_b403_0242ac1c0002row20_col2,#T_97ca73e2_d9d0_11eb_b403_0242ac1c0002row20_col3,#T_97ca73e2_d9d0_11eb_b403_0242ac1c0002row20_col4,#T_97ca73e2_d9d0_11eb_b403_0242ac1c0002row20_col5,#T_97ca73e2_d9d0_11eb_b403_0242ac1c0002row20_col6,#T_97ca73e2_d9d0_11eb_b403_0242ac1c0002row20_col8,#T_97ca73e2_d9d0_11eb_b403_0242ac1c0002row21_col0,#T_97ca73e2_d9d0_11eb_b403_0242ac1c0002row21_col2,#T_97ca73e2_d9d0_11eb_b403_0242ac1c0002row21_col3,#T_97ca73e2_d9d0_11eb_b403_0242ac1c0002row21_col4,#T_97ca73e2_d9d0_11eb_b403_0242ac1c0002row21_col5,#T_97ca73e2_d9d0_11eb_b403_0242ac1c0002row21_col6,#T_97ca73e2_d9d0_11eb_b403_0242ac1c0002row21_col7,#T_97ca73e2_d9d0_11eb_b403_0242ac1c0002row21_col8,#T_97ca73e2_d9d0_11eb_b403_0242ac1c0002row22_col0,#T_97ca73e2_d9d0_11eb_b403_0242ac1c0002row22_col1,#T_97ca73e2_d9d0_11eb_b403_0242ac1c0002row22_col2,#T_97ca73e2_d9d0_11eb_b403_0242ac1c0002row22_col4,#T_97ca73e2_d9d0_11eb_b403_0242ac1c0002row22_col5,#T_97ca73e2_d9d0_11eb_b403_0242ac1c0002row22_col6,#T_97ca73e2_d9d0_11eb_b403_0242ac1c0002row22_col7,#T_97ca73e2_d9d0_11eb_b403_0242ac1c0002row22_col8,#T_97ca73e2_d9d0_11eb_b403_0242ac1c0002row23_col0,#T_97ca73e2_d9d0_11eb_b403_0242ac1c0002row23_col1,#T_97ca73e2_d9d0_11eb_b403_0242ac1c0002row23_col2,#T_97ca73e2_d9d0_11eb_b403_0242ac1c0002row23_col3,#T_97ca73e2_d9d0_11eb_b403_0242ac1c0002row23_col4,#T_97ca73e2_d9d0_11eb_b403_0242ac1c0002row23_col5,#T_97ca73e2_d9d0_11eb_b403_0242ac1c0002row23_col7,#T_97ca73e2_d9d0_11eb_b403_0242ac1c0002row23_col8,#T_97ca73e2_d9d0_11eb_b403_0242ac1c0002row24_col0,#T_97ca73e2_d9d0_11eb_b403_0242ac1c0002row24_col1,#T_97ca73e2_d9d0_11eb_b403_0242ac1c0002row24_col2,#T_97ca73e2_d9d0_11eb_b403_0242ac1c0002row24_col3,#T_97ca73e2_d9d0_11eb_b403_0242ac1c0002row24_col5,#T_97ca73e2_d9d0_11eb_b403_0242ac1c0002row24_col6,#T_97ca73e2_d9d0_11eb_b403_0242ac1c0002row24_col7,#T_97ca73e2_d9d0_11eb_b403_0242ac1c0002row24_col8,#T_97ca73e2_d9d0_11eb_b403_0242ac1c0002row25_col0,#T_97ca73e2_d9d0_11eb_b403_0242ac1c0002row25_col1,#T_97ca73e2_d9d0_11eb_b403_0242ac1c0002row25_col3,#T_97ca73e2_d9d0_11eb_b403_0242ac1c0002row25_col4,#T_97ca73e2_d9d0_11eb_b403_0242ac1c0002row25_col5,#T_97ca73e2_d9d0_11eb_b403_0242ac1c0002row25_col6,#T_97ca73e2_d9d0_11eb_b403_0242ac1c0002row25_col7,#T_97ca73e2_d9d0_11eb_b403_0242ac1c0002row25_col8,#T_97ca73e2_d9d0_11eb_b403_0242ac1c0002row26_col0,#T_97ca73e2_d9d0_11eb_b403_0242ac1c0002row26_col1,#T_97ca73e2_d9d0_11eb_b403_0242ac1c0002row26_col2,#T_97ca73e2_d9d0_11eb_b403_0242ac1c0002row26_col4,#T_97ca73e2_d9d0_11eb_b403_0242ac1c0002row26_col5,#T_97ca73e2_d9d0_11eb_b403_0242ac1c0002row26_col6,#T_97ca73e2_d9d0_11eb_b403_0242ac1c0002row26_col7,#T_97ca73e2_d9d0_11eb_b403_0242ac1c0002row26_col8,#T_97ca73e2_d9d0_11eb_b403_0242ac1c0002row27_col1,#T_97ca73e2_d9d0_11eb_b403_0242ac1c0002row27_col2,#T_97ca73e2_d9d0_11eb_b403_0242ac1c0002row27_col3,#T_97ca73e2_d9d0_11eb_b403_0242ac1c0002row27_col4,#T_97ca73e2_d9d0_11eb_b403_0242ac1c0002row27_col5,#T_97ca73e2_d9d0_11eb_b403_0242ac1c0002row27_col6,#T_97ca73e2_d9d0_11eb_b403_0242ac1c0002row27_col7,#T_97ca73e2_d9d0_11eb_b403_0242ac1c0002row27_col8,#T_97ca73e2_d9d0_11eb_b403_0242ac1c0002row28_col0,#T_97ca73e2_d9d0_11eb_b403_0242ac1c0002row28_col2,#T_97ca73e2_d9d0_11eb_b403_0242ac1c0002row28_col3,#T_97ca73e2_d9d0_11eb_b403_0242ac1c0002row28_col4,#T_97ca73e2_d9d0_11eb_b403_0242ac1c0002row28_col5,#T_97ca73e2_d9d0_11eb_b403_0242ac1c0002row28_col6,#T_97ca73e2_d9d0_11eb_b403_0242ac1c0002row28_col7,#T_97ca73e2_d9d0_11eb_b403_0242ac1c0002row28_col8,#T_97ca73e2_d9d0_11eb_b403_0242ac1c0002row29_col0,#T_97ca73e2_d9d0_11eb_b403_0242ac1c0002row29_col1,#T_97ca73e2_d9d0_11eb_b403_0242ac1c0002row29_col2,#T_97ca73e2_d9d0_11eb_b403_0242ac1c0002row29_col3,#T_97ca73e2_d9d0_11eb_b403_0242ac1c0002row29_col5,#T_97ca73e2_d9d0_11eb_b403_0242ac1c0002row29_col6,#T_97ca73e2_d9d0_11eb_b403_0242ac1c0002row29_col7,#T_97ca73e2_d9d0_11eb_b403_0242ac1c0002row29_col8,#T_97ca73e2_d9d0_11eb_b403_0242ac1c0002row30_col0,#T_97ca73e2_d9d0_11eb_b403_0242ac1c0002row30_col2,#T_97ca73e2_d9d0_11eb_b403_0242ac1c0002row30_col3,#T_97ca73e2_d9d0_11eb_b403_0242ac1c0002row30_col4,#T_97ca73e2_d9d0_11eb_b403_0242ac1c0002row30_col5,#T_97ca73e2_d9d0_11eb_b403_0242ac1c0002row30_col6,#T_97ca73e2_d9d0_11eb_b403_0242ac1c0002row30_col7,#T_97ca73e2_d9d0_11eb_b403_0242ac1c0002row30_col8,#T_97ca73e2_d9d0_11eb_b403_0242ac1c0002row31_col0,#T_97ca73e2_d9d0_11eb_b403_0242ac1c0002row31_col1,#T_97ca73e2_d9d0_11eb_b403_0242ac1c0002row31_col3,#T_97ca73e2_d9d0_11eb_b403_0242ac1c0002row31_col4,#T_97ca73e2_d9d0_11eb_b403_0242ac1c0002row31_col5,#T_97ca73e2_d9d0_11eb_b403_0242ac1c0002row31_col6,#T_97ca73e2_d9d0_11eb_b403_0242ac1c0002row31_col7,#T_97ca73e2_d9d0_11eb_b403_0242ac1c0002row31_col8,#T_97ca73e2_d9d0_11eb_b403_0242ac1c0002row32_col1,#T_97ca73e2_d9d0_11eb_b403_0242ac1c0002row32_col2,#T_97ca73e2_d9d0_11eb_b403_0242ac1c0002row32_col3,#T_97ca73e2_d9d0_11eb_b403_0242ac1c0002row32_col4,#T_97ca73e2_d9d0_11eb_b403_0242ac1c0002row32_col5,#T_97ca73e2_d9d0_11eb_b403_0242ac1c0002row32_col6,#T_97ca73e2_d9d0_11eb_b403_0242ac1c0002row32_col7,#T_97ca73e2_d9d0_11eb_b403_0242ac1c0002row32_col8,#T_97ca73e2_d9d0_11eb_b403_0242ac1c0002row33_col0,#T_97ca73e2_d9d0_11eb_b403_0242ac1c0002row33_col1,#T_97ca73e2_d9d0_11eb_b403_0242ac1c0002row33_col2,#T_97ca73e2_d9d0_11eb_b403_0242ac1c0002row33_col3,#T_97ca73e2_d9d0_11eb_b403_0242ac1c0002row33_col4,#T_97ca73e2_d9d0_11eb_b403_0242ac1c0002row33_col6,#T_97ca73e2_d9d0_11eb_b403_0242ac1c0002row33_col7,#T_97ca73e2_d9d0_11eb_b403_0242ac1c0002row33_col8,#T_97ca73e2_d9d0_11eb_b403_0242ac1c0002row34_col1,#T_97ca73e2_d9d0_11eb_b403_0242ac1c0002row34_col2,#T_97ca73e2_d9d0_11eb_b403_0242ac1c0002row34_col3,#T_97ca73e2_d9d0_11eb_b403_0242ac1c0002row34_col4,#T_97ca73e2_d9d0_11eb_b403_0242ac1c0002row34_col5,#T_97ca73e2_d9d0_11eb_b403_0242ac1c0002row34_col6,#T_97ca73e2_d9d0_11eb_b403_0242ac1c0002row34_col7,#T_97ca73e2_d9d0_11eb_b403_0242ac1c0002row34_col8,#T_97ca73e2_d9d0_11eb_b403_0242ac1c0002row35_col0,#T_97ca73e2_d9d0_11eb_b403_0242ac1c0002row35_col1,#T_97ca73e2_d9d0_11eb_b403_0242ac1c0002row35_col2,#T_97ca73e2_d9d0_11eb_b403_0242ac1c0002row35_col3,#T_97ca73e2_d9d0_11eb_b403_0242ac1c0002row35_col4,#T_97ca73e2_d9d0_11eb_b403_0242ac1c0002row35_col6,#T_97ca73e2_d9d0_11eb_b403_0242ac1c0002row35_col7,#T_97ca73e2_d9d0_11eb_b403_0242ac1c0002row35_col8,#T_97ca73e2_d9d0_11eb_b403_0242ac1c0002row36_col0,#T_97ca73e2_d9d0_11eb_b403_0242ac1c0002row36_col1,#T_97ca73e2_d9d0_11eb_b403_0242ac1c0002row36_col3,#T_97ca73e2_d9d0_11eb_b403_0242ac1c0002row36_col4,#T_97ca73e2_d9d0_11eb_b403_0242ac1c0002row36_col5,#T_97ca73e2_d9d0_11eb_b403_0242ac1c0002row36_col6,#T_97ca73e2_d9d0_11eb_b403_0242ac1c0002row36_col7,#T_97ca73e2_d9d0_11eb_b403_0242ac1c0002row36_col8,#T_97ca73e2_d9d0_11eb_b403_0242ac1c0002row37_col0,#T_97ca73e2_d9d0_11eb_b403_0242ac1c0002row37_col2,#T_97ca73e2_d9d0_11eb_b403_0242ac1c0002row37_col3,#T_97ca73e2_d9d0_11eb_b403_0242ac1c0002row37_col4,#T_97ca73e2_d9d0_11eb_b403_0242ac1c0002row37_col5,#T_97ca73e2_d9d0_11eb_b403_0242ac1c0002row37_col6,#T_97ca73e2_d9d0_11eb_b403_0242ac1c0002row37_col7,#T_97ca73e2_d9d0_11eb_b403_0242ac1c0002row37_col8{\n",
              "            color:  gray;\n",
              "        }#T_97ca73e2_d9d0_11eb_b403_0242ac1c0002row0_col7,#T_97ca73e2_d9d0_11eb_b403_0242ac1c0002row1_col7,#T_97ca73e2_d9d0_11eb_b403_0242ac1c0002row2_col3,#T_97ca73e2_d9d0_11eb_b403_0242ac1c0002row3_col2,#T_97ca73e2_d9d0_11eb_b403_0242ac1c0002row4_col5,#T_97ca73e2_d9d0_11eb_b403_0242ac1c0002row5_col8,#T_97ca73e2_d9d0_11eb_b403_0242ac1c0002row6_col8,#T_97ca73e2_d9d0_11eb_b403_0242ac1c0002row7_col3,#T_97ca73e2_d9d0_11eb_b403_0242ac1c0002row8_col7,#T_97ca73e2_d9d0_11eb_b403_0242ac1c0002row9_col4,#T_97ca73e2_d9d0_11eb_b403_0242ac1c0002row10_col8,#T_97ca73e2_d9d0_11eb_b403_0242ac1c0002row11_col8,#T_97ca73e2_d9d0_11eb_b403_0242ac1c0002row12_col7,#T_97ca73e2_d9d0_11eb_b403_0242ac1c0002row13_col6,#T_97ca73e2_d9d0_11eb_b403_0242ac1c0002row14_col6,#T_97ca73e2_d9d0_11eb_b403_0242ac1c0002row15_col4,#T_97ca73e2_d9d0_11eb_b403_0242ac1c0002row16_col0,#T_97ca73e2_d9d0_11eb_b403_0242ac1c0002row17_col5,#T_97ca73e2_d9d0_11eb_b403_0242ac1c0002row18_col6,#T_97ca73e2_d9d0_11eb_b403_0242ac1c0002row19_col3,#T_97ca73e2_d9d0_11eb_b403_0242ac1c0002row20_col7,#T_97ca73e2_d9d0_11eb_b403_0242ac1c0002row21_col1,#T_97ca73e2_d9d0_11eb_b403_0242ac1c0002row22_col3,#T_97ca73e2_d9d0_11eb_b403_0242ac1c0002row23_col6,#T_97ca73e2_d9d0_11eb_b403_0242ac1c0002row24_col4,#T_97ca73e2_d9d0_11eb_b403_0242ac1c0002row25_col2,#T_97ca73e2_d9d0_11eb_b403_0242ac1c0002row26_col3,#T_97ca73e2_d9d0_11eb_b403_0242ac1c0002row27_col0,#T_97ca73e2_d9d0_11eb_b403_0242ac1c0002row28_col1,#T_97ca73e2_d9d0_11eb_b403_0242ac1c0002row29_col4,#T_97ca73e2_d9d0_11eb_b403_0242ac1c0002row30_col1,#T_97ca73e2_d9d0_11eb_b403_0242ac1c0002row31_col2,#T_97ca73e2_d9d0_11eb_b403_0242ac1c0002row32_col0,#T_97ca73e2_d9d0_11eb_b403_0242ac1c0002row33_col5,#T_97ca73e2_d9d0_11eb_b403_0242ac1c0002row34_col0,#T_97ca73e2_d9d0_11eb_b403_0242ac1c0002row35_col5,#T_97ca73e2_d9d0_11eb_b403_0242ac1c0002row36_col2,#T_97ca73e2_d9d0_11eb_b403_0242ac1c0002row37_col1{\n",
              "            color:  red;\n",
              "        }</style><table id=\"T_97ca73e2_d9d0_11eb_b403_0242ac1c0002\" ><thead>    <tr>        <th class=\"blank level0\" ></th>        <th class=\"col_heading level0 col0\" >A</th>        <th class=\"col_heading level0 col1\" >B</th>        <th class=\"col_heading level0 col2\" >C</th>        <th class=\"col_heading level0 col3\" >D</th>        <th class=\"col_heading level0 col4\" >E</th>        <th class=\"col_heading level0 col5\" >F</th>        <th class=\"col_heading level0 col6\" >G</th>        <th class=\"col_heading level0 col7\" >H</th>        <th class=\"col_heading level0 col8\" >I</th>    </tr></thead><tbody>\n",
              "                <tr>\n",
              "                        <th id=\"T_97ca73e2_d9d0_11eb_b403_0242ac1c0002level0_row0\" class=\"row_heading level0 row0\" >0</th>\n",
              "                        <td id=\"T_97ca73e2_d9d0_11eb_b403_0242ac1c0002row0_col0\" class=\"data row0 col0\" >0</td>\n",
              "                        <td id=\"T_97ca73e2_d9d0_11eb_b403_0242ac1c0002row0_col1\" class=\"data row0 col1\" >0</td>\n",
              "                        <td id=\"T_97ca73e2_d9d0_11eb_b403_0242ac1c0002row0_col2\" class=\"data row0 col2\" >0</td>\n",
              "                        <td id=\"T_97ca73e2_d9d0_11eb_b403_0242ac1c0002row0_col3\" class=\"data row0 col3\" >0</td>\n",
              "                        <td id=\"T_97ca73e2_d9d0_11eb_b403_0242ac1c0002row0_col4\" class=\"data row0 col4\" >0</td>\n",
              "                        <td id=\"T_97ca73e2_d9d0_11eb_b403_0242ac1c0002row0_col5\" class=\"data row0 col5\" >0</td>\n",
              "                        <td id=\"T_97ca73e2_d9d0_11eb_b403_0242ac1c0002row0_col6\" class=\"data row0 col6\" >0</td>\n",
              "                        <td id=\"T_97ca73e2_d9d0_11eb_b403_0242ac1c0002row0_col7\" class=\"data row0 col7\" >1</td>\n",
              "                        <td id=\"T_97ca73e2_d9d0_11eb_b403_0242ac1c0002row0_col8\" class=\"data row0 col8\" >0</td>\n",
              "            </tr>\n",
              "            <tr>\n",
              "                        <th id=\"T_97ca73e2_d9d0_11eb_b403_0242ac1c0002level0_row1\" class=\"row_heading level0 row1\" >1</th>\n",
              "                        <td id=\"T_97ca73e2_d9d0_11eb_b403_0242ac1c0002row1_col0\" class=\"data row1 col0\" >0</td>\n",
              "                        <td id=\"T_97ca73e2_d9d0_11eb_b403_0242ac1c0002row1_col1\" class=\"data row1 col1\" >0</td>\n",
              "                        <td id=\"T_97ca73e2_d9d0_11eb_b403_0242ac1c0002row1_col2\" class=\"data row1 col2\" >0</td>\n",
              "                        <td id=\"T_97ca73e2_d9d0_11eb_b403_0242ac1c0002row1_col3\" class=\"data row1 col3\" >0</td>\n",
              "                        <td id=\"T_97ca73e2_d9d0_11eb_b403_0242ac1c0002row1_col4\" class=\"data row1 col4\" >0</td>\n",
              "                        <td id=\"T_97ca73e2_d9d0_11eb_b403_0242ac1c0002row1_col5\" class=\"data row1 col5\" >0</td>\n",
              "                        <td id=\"T_97ca73e2_d9d0_11eb_b403_0242ac1c0002row1_col6\" class=\"data row1 col6\" >0</td>\n",
              "                        <td id=\"T_97ca73e2_d9d0_11eb_b403_0242ac1c0002row1_col7\" class=\"data row1 col7\" >1</td>\n",
              "                        <td id=\"T_97ca73e2_d9d0_11eb_b403_0242ac1c0002row1_col8\" class=\"data row1 col8\" >0</td>\n",
              "            </tr>\n",
              "            <tr>\n",
              "                        <th id=\"T_97ca73e2_d9d0_11eb_b403_0242ac1c0002level0_row2\" class=\"row_heading level0 row2\" >2</th>\n",
              "                        <td id=\"T_97ca73e2_d9d0_11eb_b403_0242ac1c0002row2_col0\" class=\"data row2 col0\" >0</td>\n",
              "                        <td id=\"T_97ca73e2_d9d0_11eb_b403_0242ac1c0002row2_col1\" class=\"data row2 col1\" >0</td>\n",
              "                        <td id=\"T_97ca73e2_d9d0_11eb_b403_0242ac1c0002row2_col2\" class=\"data row2 col2\" >0</td>\n",
              "                        <td id=\"T_97ca73e2_d9d0_11eb_b403_0242ac1c0002row2_col3\" class=\"data row2 col3\" >1</td>\n",
              "                        <td id=\"T_97ca73e2_d9d0_11eb_b403_0242ac1c0002row2_col4\" class=\"data row2 col4\" >0</td>\n",
              "                        <td id=\"T_97ca73e2_d9d0_11eb_b403_0242ac1c0002row2_col5\" class=\"data row2 col5\" >0</td>\n",
              "                        <td id=\"T_97ca73e2_d9d0_11eb_b403_0242ac1c0002row2_col6\" class=\"data row2 col6\" >0</td>\n",
              "                        <td id=\"T_97ca73e2_d9d0_11eb_b403_0242ac1c0002row2_col7\" class=\"data row2 col7\" >0</td>\n",
              "                        <td id=\"T_97ca73e2_d9d0_11eb_b403_0242ac1c0002row2_col8\" class=\"data row2 col8\" >0</td>\n",
              "            </tr>\n",
              "            <tr>\n",
              "                        <th id=\"T_97ca73e2_d9d0_11eb_b403_0242ac1c0002level0_row3\" class=\"row_heading level0 row3\" >3</th>\n",
              "                        <td id=\"T_97ca73e2_d9d0_11eb_b403_0242ac1c0002row3_col0\" class=\"data row3 col0\" >0</td>\n",
              "                        <td id=\"T_97ca73e2_d9d0_11eb_b403_0242ac1c0002row3_col1\" class=\"data row3 col1\" >0</td>\n",
              "                        <td id=\"T_97ca73e2_d9d0_11eb_b403_0242ac1c0002row3_col2\" class=\"data row3 col2\" >1</td>\n",
              "                        <td id=\"T_97ca73e2_d9d0_11eb_b403_0242ac1c0002row3_col3\" class=\"data row3 col3\" >0</td>\n",
              "                        <td id=\"T_97ca73e2_d9d0_11eb_b403_0242ac1c0002row3_col4\" class=\"data row3 col4\" >0</td>\n",
              "                        <td id=\"T_97ca73e2_d9d0_11eb_b403_0242ac1c0002row3_col5\" class=\"data row3 col5\" >0</td>\n",
              "                        <td id=\"T_97ca73e2_d9d0_11eb_b403_0242ac1c0002row3_col6\" class=\"data row3 col6\" >0</td>\n",
              "                        <td id=\"T_97ca73e2_d9d0_11eb_b403_0242ac1c0002row3_col7\" class=\"data row3 col7\" >0</td>\n",
              "                        <td id=\"T_97ca73e2_d9d0_11eb_b403_0242ac1c0002row3_col8\" class=\"data row3 col8\" >0</td>\n",
              "            </tr>\n",
              "            <tr>\n",
              "                        <th id=\"T_97ca73e2_d9d0_11eb_b403_0242ac1c0002level0_row4\" class=\"row_heading level0 row4\" >4</th>\n",
              "                        <td id=\"T_97ca73e2_d9d0_11eb_b403_0242ac1c0002row4_col0\" class=\"data row4 col0\" >0</td>\n",
              "                        <td id=\"T_97ca73e2_d9d0_11eb_b403_0242ac1c0002row4_col1\" class=\"data row4 col1\" >0</td>\n",
              "                        <td id=\"T_97ca73e2_d9d0_11eb_b403_0242ac1c0002row4_col2\" class=\"data row4 col2\" >0</td>\n",
              "                        <td id=\"T_97ca73e2_d9d0_11eb_b403_0242ac1c0002row4_col3\" class=\"data row4 col3\" >0</td>\n",
              "                        <td id=\"T_97ca73e2_d9d0_11eb_b403_0242ac1c0002row4_col4\" class=\"data row4 col4\" >0</td>\n",
              "                        <td id=\"T_97ca73e2_d9d0_11eb_b403_0242ac1c0002row4_col5\" class=\"data row4 col5\" >1</td>\n",
              "                        <td id=\"T_97ca73e2_d9d0_11eb_b403_0242ac1c0002row4_col6\" class=\"data row4 col6\" >0</td>\n",
              "                        <td id=\"T_97ca73e2_d9d0_11eb_b403_0242ac1c0002row4_col7\" class=\"data row4 col7\" >0</td>\n",
              "                        <td id=\"T_97ca73e2_d9d0_11eb_b403_0242ac1c0002row4_col8\" class=\"data row4 col8\" >0</td>\n",
              "            </tr>\n",
              "            <tr>\n",
              "                        <th id=\"T_97ca73e2_d9d0_11eb_b403_0242ac1c0002level0_row5\" class=\"row_heading level0 row5\" >5</th>\n",
              "                        <td id=\"T_97ca73e2_d9d0_11eb_b403_0242ac1c0002row5_col0\" class=\"data row5 col0\" >0</td>\n",
              "                        <td id=\"T_97ca73e2_d9d0_11eb_b403_0242ac1c0002row5_col1\" class=\"data row5 col1\" >0</td>\n",
              "                        <td id=\"T_97ca73e2_d9d0_11eb_b403_0242ac1c0002row5_col2\" class=\"data row5 col2\" >0</td>\n",
              "                        <td id=\"T_97ca73e2_d9d0_11eb_b403_0242ac1c0002row5_col3\" class=\"data row5 col3\" >0</td>\n",
              "                        <td id=\"T_97ca73e2_d9d0_11eb_b403_0242ac1c0002row5_col4\" class=\"data row5 col4\" >0</td>\n",
              "                        <td id=\"T_97ca73e2_d9d0_11eb_b403_0242ac1c0002row5_col5\" class=\"data row5 col5\" >0</td>\n",
              "                        <td id=\"T_97ca73e2_d9d0_11eb_b403_0242ac1c0002row5_col6\" class=\"data row5 col6\" >0</td>\n",
              "                        <td id=\"T_97ca73e2_d9d0_11eb_b403_0242ac1c0002row5_col7\" class=\"data row5 col7\" >0</td>\n",
              "                        <td id=\"T_97ca73e2_d9d0_11eb_b403_0242ac1c0002row5_col8\" class=\"data row5 col8\" >1</td>\n",
              "            </tr>\n",
              "            <tr>\n",
              "                        <th id=\"T_97ca73e2_d9d0_11eb_b403_0242ac1c0002level0_row6\" class=\"row_heading level0 row6\" >6</th>\n",
              "                        <td id=\"T_97ca73e2_d9d0_11eb_b403_0242ac1c0002row6_col0\" class=\"data row6 col0\" >0</td>\n",
              "                        <td id=\"T_97ca73e2_d9d0_11eb_b403_0242ac1c0002row6_col1\" class=\"data row6 col1\" >0</td>\n",
              "                        <td id=\"T_97ca73e2_d9d0_11eb_b403_0242ac1c0002row6_col2\" class=\"data row6 col2\" >0</td>\n",
              "                        <td id=\"T_97ca73e2_d9d0_11eb_b403_0242ac1c0002row6_col3\" class=\"data row6 col3\" >0</td>\n",
              "                        <td id=\"T_97ca73e2_d9d0_11eb_b403_0242ac1c0002row6_col4\" class=\"data row6 col4\" >0</td>\n",
              "                        <td id=\"T_97ca73e2_d9d0_11eb_b403_0242ac1c0002row6_col5\" class=\"data row6 col5\" >0</td>\n",
              "                        <td id=\"T_97ca73e2_d9d0_11eb_b403_0242ac1c0002row6_col6\" class=\"data row6 col6\" >0</td>\n",
              "                        <td id=\"T_97ca73e2_d9d0_11eb_b403_0242ac1c0002row6_col7\" class=\"data row6 col7\" >0</td>\n",
              "                        <td id=\"T_97ca73e2_d9d0_11eb_b403_0242ac1c0002row6_col8\" class=\"data row6 col8\" >1</td>\n",
              "            </tr>\n",
              "            <tr>\n",
              "                        <th id=\"T_97ca73e2_d9d0_11eb_b403_0242ac1c0002level0_row7\" class=\"row_heading level0 row7\" >7</th>\n",
              "                        <td id=\"T_97ca73e2_d9d0_11eb_b403_0242ac1c0002row7_col0\" class=\"data row7 col0\" >0</td>\n",
              "                        <td id=\"T_97ca73e2_d9d0_11eb_b403_0242ac1c0002row7_col1\" class=\"data row7 col1\" >0</td>\n",
              "                        <td id=\"T_97ca73e2_d9d0_11eb_b403_0242ac1c0002row7_col2\" class=\"data row7 col2\" >0</td>\n",
              "                        <td id=\"T_97ca73e2_d9d0_11eb_b403_0242ac1c0002row7_col3\" class=\"data row7 col3\" >1</td>\n",
              "                        <td id=\"T_97ca73e2_d9d0_11eb_b403_0242ac1c0002row7_col4\" class=\"data row7 col4\" >0</td>\n",
              "                        <td id=\"T_97ca73e2_d9d0_11eb_b403_0242ac1c0002row7_col5\" class=\"data row7 col5\" >0</td>\n",
              "                        <td id=\"T_97ca73e2_d9d0_11eb_b403_0242ac1c0002row7_col6\" class=\"data row7 col6\" >0</td>\n",
              "                        <td id=\"T_97ca73e2_d9d0_11eb_b403_0242ac1c0002row7_col7\" class=\"data row7 col7\" >0</td>\n",
              "                        <td id=\"T_97ca73e2_d9d0_11eb_b403_0242ac1c0002row7_col8\" class=\"data row7 col8\" >0</td>\n",
              "            </tr>\n",
              "            <tr>\n",
              "                        <th id=\"T_97ca73e2_d9d0_11eb_b403_0242ac1c0002level0_row8\" class=\"row_heading level0 row8\" >8</th>\n",
              "                        <td id=\"T_97ca73e2_d9d0_11eb_b403_0242ac1c0002row8_col0\" class=\"data row8 col0\" >0</td>\n",
              "                        <td id=\"T_97ca73e2_d9d0_11eb_b403_0242ac1c0002row8_col1\" class=\"data row8 col1\" >0</td>\n",
              "                        <td id=\"T_97ca73e2_d9d0_11eb_b403_0242ac1c0002row8_col2\" class=\"data row8 col2\" >0</td>\n",
              "                        <td id=\"T_97ca73e2_d9d0_11eb_b403_0242ac1c0002row8_col3\" class=\"data row8 col3\" >0</td>\n",
              "                        <td id=\"T_97ca73e2_d9d0_11eb_b403_0242ac1c0002row8_col4\" class=\"data row8 col4\" >0</td>\n",
              "                        <td id=\"T_97ca73e2_d9d0_11eb_b403_0242ac1c0002row8_col5\" class=\"data row8 col5\" >0</td>\n",
              "                        <td id=\"T_97ca73e2_d9d0_11eb_b403_0242ac1c0002row8_col6\" class=\"data row8 col6\" >0</td>\n",
              "                        <td id=\"T_97ca73e2_d9d0_11eb_b403_0242ac1c0002row8_col7\" class=\"data row8 col7\" >1</td>\n",
              "                        <td id=\"T_97ca73e2_d9d0_11eb_b403_0242ac1c0002row8_col8\" class=\"data row8 col8\" >0</td>\n",
              "            </tr>\n",
              "            <tr>\n",
              "                        <th id=\"T_97ca73e2_d9d0_11eb_b403_0242ac1c0002level0_row9\" class=\"row_heading level0 row9\" >9</th>\n",
              "                        <td id=\"T_97ca73e2_d9d0_11eb_b403_0242ac1c0002row9_col0\" class=\"data row9 col0\" >0</td>\n",
              "                        <td id=\"T_97ca73e2_d9d0_11eb_b403_0242ac1c0002row9_col1\" class=\"data row9 col1\" >0</td>\n",
              "                        <td id=\"T_97ca73e2_d9d0_11eb_b403_0242ac1c0002row9_col2\" class=\"data row9 col2\" >0</td>\n",
              "                        <td id=\"T_97ca73e2_d9d0_11eb_b403_0242ac1c0002row9_col3\" class=\"data row9 col3\" >0</td>\n",
              "                        <td id=\"T_97ca73e2_d9d0_11eb_b403_0242ac1c0002row9_col4\" class=\"data row9 col4\" >1</td>\n",
              "                        <td id=\"T_97ca73e2_d9d0_11eb_b403_0242ac1c0002row9_col5\" class=\"data row9 col5\" >0</td>\n",
              "                        <td id=\"T_97ca73e2_d9d0_11eb_b403_0242ac1c0002row9_col6\" class=\"data row9 col6\" >0</td>\n",
              "                        <td id=\"T_97ca73e2_d9d0_11eb_b403_0242ac1c0002row9_col7\" class=\"data row9 col7\" >0</td>\n",
              "                        <td id=\"T_97ca73e2_d9d0_11eb_b403_0242ac1c0002row9_col8\" class=\"data row9 col8\" >0</td>\n",
              "            </tr>\n",
              "            <tr>\n",
              "                        <th id=\"T_97ca73e2_d9d0_11eb_b403_0242ac1c0002level0_row10\" class=\"row_heading level0 row10\" >10</th>\n",
              "                        <td id=\"T_97ca73e2_d9d0_11eb_b403_0242ac1c0002row10_col0\" class=\"data row10 col0\" >0</td>\n",
              "                        <td id=\"T_97ca73e2_d9d0_11eb_b403_0242ac1c0002row10_col1\" class=\"data row10 col1\" >0</td>\n",
              "                        <td id=\"T_97ca73e2_d9d0_11eb_b403_0242ac1c0002row10_col2\" class=\"data row10 col2\" >0</td>\n",
              "                        <td id=\"T_97ca73e2_d9d0_11eb_b403_0242ac1c0002row10_col3\" class=\"data row10 col3\" >0</td>\n",
              "                        <td id=\"T_97ca73e2_d9d0_11eb_b403_0242ac1c0002row10_col4\" class=\"data row10 col4\" >0</td>\n",
              "                        <td id=\"T_97ca73e2_d9d0_11eb_b403_0242ac1c0002row10_col5\" class=\"data row10 col5\" >0</td>\n",
              "                        <td id=\"T_97ca73e2_d9d0_11eb_b403_0242ac1c0002row10_col6\" class=\"data row10 col6\" >0</td>\n",
              "                        <td id=\"T_97ca73e2_d9d0_11eb_b403_0242ac1c0002row10_col7\" class=\"data row10 col7\" >0</td>\n",
              "                        <td id=\"T_97ca73e2_d9d0_11eb_b403_0242ac1c0002row10_col8\" class=\"data row10 col8\" >1</td>\n",
              "            </tr>\n",
              "            <tr>\n",
              "                        <th id=\"T_97ca73e2_d9d0_11eb_b403_0242ac1c0002level0_row11\" class=\"row_heading level0 row11\" >11</th>\n",
              "                        <td id=\"T_97ca73e2_d9d0_11eb_b403_0242ac1c0002row11_col0\" class=\"data row11 col0\" >0</td>\n",
              "                        <td id=\"T_97ca73e2_d9d0_11eb_b403_0242ac1c0002row11_col1\" class=\"data row11 col1\" >0</td>\n",
              "                        <td id=\"T_97ca73e2_d9d0_11eb_b403_0242ac1c0002row11_col2\" class=\"data row11 col2\" >0</td>\n",
              "                        <td id=\"T_97ca73e2_d9d0_11eb_b403_0242ac1c0002row11_col3\" class=\"data row11 col3\" >0</td>\n",
              "                        <td id=\"T_97ca73e2_d9d0_11eb_b403_0242ac1c0002row11_col4\" class=\"data row11 col4\" >0</td>\n",
              "                        <td id=\"T_97ca73e2_d9d0_11eb_b403_0242ac1c0002row11_col5\" class=\"data row11 col5\" >0</td>\n",
              "                        <td id=\"T_97ca73e2_d9d0_11eb_b403_0242ac1c0002row11_col6\" class=\"data row11 col6\" >0</td>\n",
              "                        <td id=\"T_97ca73e2_d9d0_11eb_b403_0242ac1c0002row11_col7\" class=\"data row11 col7\" >0</td>\n",
              "                        <td id=\"T_97ca73e2_d9d0_11eb_b403_0242ac1c0002row11_col8\" class=\"data row11 col8\" >1</td>\n",
              "            </tr>\n",
              "            <tr>\n",
              "                        <th id=\"T_97ca73e2_d9d0_11eb_b403_0242ac1c0002level0_row12\" class=\"row_heading level0 row12\" >12</th>\n",
              "                        <td id=\"T_97ca73e2_d9d0_11eb_b403_0242ac1c0002row12_col0\" class=\"data row12 col0\" >0</td>\n",
              "                        <td id=\"T_97ca73e2_d9d0_11eb_b403_0242ac1c0002row12_col1\" class=\"data row12 col1\" >0</td>\n",
              "                        <td id=\"T_97ca73e2_d9d0_11eb_b403_0242ac1c0002row12_col2\" class=\"data row12 col2\" >0</td>\n",
              "                        <td id=\"T_97ca73e2_d9d0_11eb_b403_0242ac1c0002row12_col3\" class=\"data row12 col3\" >0</td>\n",
              "                        <td id=\"T_97ca73e2_d9d0_11eb_b403_0242ac1c0002row12_col4\" class=\"data row12 col4\" >0</td>\n",
              "                        <td id=\"T_97ca73e2_d9d0_11eb_b403_0242ac1c0002row12_col5\" class=\"data row12 col5\" >0</td>\n",
              "                        <td id=\"T_97ca73e2_d9d0_11eb_b403_0242ac1c0002row12_col6\" class=\"data row12 col6\" >0</td>\n",
              "                        <td id=\"T_97ca73e2_d9d0_11eb_b403_0242ac1c0002row12_col7\" class=\"data row12 col7\" >1</td>\n",
              "                        <td id=\"T_97ca73e2_d9d0_11eb_b403_0242ac1c0002row12_col8\" class=\"data row12 col8\" >0</td>\n",
              "            </tr>\n",
              "            <tr>\n",
              "                        <th id=\"T_97ca73e2_d9d0_11eb_b403_0242ac1c0002level0_row13\" class=\"row_heading level0 row13\" >13</th>\n",
              "                        <td id=\"T_97ca73e2_d9d0_11eb_b403_0242ac1c0002row13_col0\" class=\"data row13 col0\" >0</td>\n",
              "                        <td id=\"T_97ca73e2_d9d0_11eb_b403_0242ac1c0002row13_col1\" class=\"data row13 col1\" >0</td>\n",
              "                        <td id=\"T_97ca73e2_d9d0_11eb_b403_0242ac1c0002row13_col2\" class=\"data row13 col2\" >0</td>\n",
              "                        <td id=\"T_97ca73e2_d9d0_11eb_b403_0242ac1c0002row13_col3\" class=\"data row13 col3\" >0</td>\n",
              "                        <td id=\"T_97ca73e2_d9d0_11eb_b403_0242ac1c0002row13_col4\" class=\"data row13 col4\" >0</td>\n",
              "                        <td id=\"T_97ca73e2_d9d0_11eb_b403_0242ac1c0002row13_col5\" class=\"data row13 col5\" >0</td>\n",
              "                        <td id=\"T_97ca73e2_d9d0_11eb_b403_0242ac1c0002row13_col6\" class=\"data row13 col6\" >1</td>\n",
              "                        <td id=\"T_97ca73e2_d9d0_11eb_b403_0242ac1c0002row13_col7\" class=\"data row13 col7\" >0</td>\n",
              "                        <td id=\"T_97ca73e2_d9d0_11eb_b403_0242ac1c0002row13_col8\" class=\"data row13 col8\" >0</td>\n",
              "            </tr>\n",
              "            <tr>\n",
              "                        <th id=\"T_97ca73e2_d9d0_11eb_b403_0242ac1c0002level0_row14\" class=\"row_heading level0 row14\" >14</th>\n",
              "                        <td id=\"T_97ca73e2_d9d0_11eb_b403_0242ac1c0002row14_col0\" class=\"data row14 col0\" >0</td>\n",
              "                        <td id=\"T_97ca73e2_d9d0_11eb_b403_0242ac1c0002row14_col1\" class=\"data row14 col1\" >0</td>\n",
              "                        <td id=\"T_97ca73e2_d9d0_11eb_b403_0242ac1c0002row14_col2\" class=\"data row14 col2\" >0</td>\n",
              "                        <td id=\"T_97ca73e2_d9d0_11eb_b403_0242ac1c0002row14_col3\" class=\"data row14 col3\" >0</td>\n",
              "                        <td id=\"T_97ca73e2_d9d0_11eb_b403_0242ac1c0002row14_col4\" class=\"data row14 col4\" >0</td>\n",
              "                        <td id=\"T_97ca73e2_d9d0_11eb_b403_0242ac1c0002row14_col5\" class=\"data row14 col5\" >0</td>\n",
              "                        <td id=\"T_97ca73e2_d9d0_11eb_b403_0242ac1c0002row14_col6\" class=\"data row14 col6\" >1</td>\n",
              "                        <td id=\"T_97ca73e2_d9d0_11eb_b403_0242ac1c0002row14_col7\" class=\"data row14 col7\" >0</td>\n",
              "                        <td id=\"T_97ca73e2_d9d0_11eb_b403_0242ac1c0002row14_col8\" class=\"data row14 col8\" >0</td>\n",
              "            </tr>\n",
              "            <tr>\n",
              "                        <th id=\"T_97ca73e2_d9d0_11eb_b403_0242ac1c0002level0_row15\" class=\"row_heading level0 row15\" >15</th>\n",
              "                        <td id=\"T_97ca73e2_d9d0_11eb_b403_0242ac1c0002row15_col0\" class=\"data row15 col0\" >0</td>\n",
              "                        <td id=\"T_97ca73e2_d9d0_11eb_b403_0242ac1c0002row15_col1\" class=\"data row15 col1\" >0</td>\n",
              "                        <td id=\"T_97ca73e2_d9d0_11eb_b403_0242ac1c0002row15_col2\" class=\"data row15 col2\" >0</td>\n",
              "                        <td id=\"T_97ca73e2_d9d0_11eb_b403_0242ac1c0002row15_col3\" class=\"data row15 col3\" >0</td>\n",
              "                        <td id=\"T_97ca73e2_d9d0_11eb_b403_0242ac1c0002row15_col4\" class=\"data row15 col4\" >1</td>\n",
              "                        <td id=\"T_97ca73e2_d9d0_11eb_b403_0242ac1c0002row15_col5\" class=\"data row15 col5\" >0</td>\n",
              "                        <td id=\"T_97ca73e2_d9d0_11eb_b403_0242ac1c0002row15_col6\" class=\"data row15 col6\" >0</td>\n",
              "                        <td id=\"T_97ca73e2_d9d0_11eb_b403_0242ac1c0002row15_col7\" class=\"data row15 col7\" >0</td>\n",
              "                        <td id=\"T_97ca73e2_d9d0_11eb_b403_0242ac1c0002row15_col8\" class=\"data row15 col8\" >0</td>\n",
              "            </tr>\n",
              "            <tr>\n",
              "                        <th id=\"T_97ca73e2_d9d0_11eb_b403_0242ac1c0002level0_row16\" class=\"row_heading level0 row16\" >16</th>\n",
              "                        <td id=\"T_97ca73e2_d9d0_11eb_b403_0242ac1c0002row16_col0\" class=\"data row16 col0\" >1</td>\n",
              "                        <td id=\"T_97ca73e2_d9d0_11eb_b403_0242ac1c0002row16_col1\" class=\"data row16 col1\" >0</td>\n",
              "                        <td id=\"T_97ca73e2_d9d0_11eb_b403_0242ac1c0002row16_col2\" class=\"data row16 col2\" >0</td>\n",
              "                        <td id=\"T_97ca73e2_d9d0_11eb_b403_0242ac1c0002row16_col3\" class=\"data row16 col3\" >0</td>\n",
              "                        <td id=\"T_97ca73e2_d9d0_11eb_b403_0242ac1c0002row16_col4\" class=\"data row16 col4\" >0</td>\n",
              "                        <td id=\"T_97ca73e2_d9d0_11eb_b403_0242ac1c0002row16_col5\" class=\"data row16 col5\" >0</td>\n",
              "                        <td id=\"T_97ca73e2_d9d0_11eb_b403_0242ac1c0002row16_col6\" class=\"data row16 col6\" >0</td>\n",
              "                        <td id=\"T_97ca73e2_d9d0_11eb_b403_0242ac1c0002row16_col7\" class=\"data row16 col7\" >0</td>\n",
              "                        <td id=\"T_97ca73e2_d9d0_11eb_b403_0242ac1c0002row16_col8\" class=\"data row16 col8\" >0</td>\n",
              "            </tr>\n",
              "            <tr>\n",
              "                        <th id=\"T_97ca73e2_d9d0_11eb_b403_0242ac1c0002level0_row17\" class=\"row_heading level0 row17\" >17</th>\n",
              "                        <td id=\"T_97ca73e2_d9d0_11eb_b403_0242ac1c0002row17_col0\" class=\"data row17 col0\" >0</td>\n",
              "                        <td id=\"T_97ca73e2_d9d0_11eb_b403_0242ac1c0002row17_col1\" class=\"data row17 col1\" >0</td>\n",
              "                        <td id=\"T_97ca73e2_d9d0_11eb_b403_0242ac1c0002row17_col2\" class=\"data row17 col2\" >0</td>\n",
              "                        <td id=\"T_97ca73e2_d9d0_11eb_b403_0242ac1c0002row17_col3\" class=\"data row17 col3\" >0</td>\n",
              "                        <td id=\"T_97ca73e2_d9d0_11eb_b403_0242ac1c0002row17_col4\" class=\"data row17 col4\" >0</td>\n",
              "                        <td id=\"T_97ca73e2_d9d0_11eb_b403_0242ac1c0002row17_col5\" class=\"data row17 col5\" >1</td>\n",
              "                        <td id=\"T_97ca73e2_d9d0_11eb_b403_0242ac1c0002row17_col6\" class=\"data row17 col6\" >0</td>\n",
              "                        <td id=\"T_97ca73e2_d9d0_11eb_b403_0242ac1c0002row17_col7\" class=\"data row17 col7\" >0</td>\n",
              "                        <td id=\"T_97ca73e2_d9d0_11eb_b403_0242ac1c0002row17_col8\" class=\"data row17 col8\" >0</td>\n",
              "            </tr>\n",
              "            <tr>\n",
              "                        <th id=\"T_97ca73e2_d9d0_11eb_b403_0242ac1c0002level0_row18\" class=\"row_heading level0 row18\" >18</th>\n",
              "                        <td id=\"T_97ca73e2_d9d0_11eb_b403_0242ac1c0002row18_col0\" class=\"data row18 col0\" >0</td>\n",
              "                        <td id=\"T_97ca73e2_d9d0_11eb_b403_0242ac1c0002row18_col1\" class=\"data row18 col1\" >0</td>\n",
              "                        <td id=\"T_97ca73e2_d9d0_11eb_b403_0242ac1c0002row18_col2\" class=\"data row18 col2\" >0</td>\n",
              "                        <td id=\"T_97ca73e2_d9d0_11eb_b403_0242ac1c0002row18_col3\" class=\"data row18 col3\" >0</td>\n",
              "                        <td id=\"T_97ca73e2_d9d0_11eb_b403_0242ac1c0002row18_col4\" class=\"data row18 col4\" >0</td>\n",
              "                        <td id=\"T_97ca73e2_d9d0_11eb_b403_0242ac1c0002row18_col5\" class=\"data row18 col5\" >0</td>\n",
              "                        <td id=\"T_97ca73e2_d9d0_11eb_b403_0242ac1c0002row18_col6\" class=\"data row18 col6\" >1</td>\n",
              "                        <td id=\"T_97ca73e2_d9d0_11eb_b403_0242ac1c0002row18_col7\" class=\"data row18 col7\" >0</td>\n",
              "                        <td id=\"T_97ca73e2_d9d0_11eb_b403_0242ac1c0002row18_col8\" class=\"data row18 col8\" >0</td>\n",
              "            </tr>\n",
              "            <tr>\n",
              "                        <th id=\"T_97ca73e2_d9d0_11eb_b403_0242ac1c0002level0_row19\" class=\"row_heading level0 row19\" >19</th>\n",
              "                        <td id=\"T_97ca73e2_d9d0_11eb_b403_0242ac1c0002row19_col0\" class=\"data row19 col0\" >0</td>\n",
              "                        <td id=\"T_97ca73e2_d9d0_11eb_b403_0242ac1c0002row19_col1\" class=\"data row19 col1\" >0</td>\n",
              "                        <td id=\"T_97ca73e2_d9d0_11eb_b403_0242ac1c0002row19_col2\" class=\"data row19 col2\" >0</td>\n",
              "                        <td id=\"T_97ca73e2_d9d0_11eb_b403_0242ac1c0002row19_col3\" class=\"data row19 col3\" >1</td>\n",
              "                        <td id=\"T_97ca73e2_d9d0_11eb_b403_0242ac1c0002row19_col4\" class=\"data row19 col4\" >0</td>\n",
              "                        <td id=\"T_97ca73e2_d9d0_11eb_b403_0242ac1c0002row19_col5\" class=\"data row19 col5\" >0</td>\n",
              "                        <td id=\"T_97ca73e2_d9d0_11eb_b403_0242ac1c0002row19_col6\" class=\"data row19 col6\" >0</td>\n",
              "                        <td id=\"T_97ca73e2_d9d0_11eb_b403_0242ac1c0002row19_col7\" class=\"data row19 col7\" >0</td>\n",
              "                        <td id=\"T_97ca73e2_d9d0_11eb_b403_0242ac1c0002row19_col8\" class=\"data row19 col8\" >0</td>\n",
              "            </tr>\n",
              "            <tr>\n",
              "                        <th id=\"T_97ca73e2_d9d0_11eb_b403_0242ac1c0002level0_row20\" class=\"row_heading level0 row20\" >20</th>\n",
              "                        <td id=\"T_97ca73e2_d9d0_11eb_b403_0242ac1c0002row20_col0\" class=\"data row20 col0\" >0</td>\n",
              "                        <td id=\"T_97ca73e2_d9d0_11eb_b403_0242ac1c0002row20_col1\" class=\"data row20 col1\" >0</td>\n",
              "                        <td id=\"T_97ca73e2_d9d0_11eb_b403_0242ac1c0002row20_col2\" class=\"data row20 col2\" >0</td>\n",
              "                        <td id=\"T_97ca73e2_d9d0_11eb_b403_0242ac1c0002row20_col3\" class=\"data row20 col3\" >0</td>\n",
              "                        <td id=\"T_97ca73e2_d9d0_11eb_b403_0242ac1c0002row20_col4\" class=\"data row20 col4\" >0</td>\n",
              "                        <td id=\"T_97ca73e2_d9d0_11eb_b403_0242ac1c0002row20_col5\" class=\"data row20 col5\" >0</td>\n",
              "                        <td id=\"T_97ca73e2_d9d0_11eb_b403_0242ac1c0002row20_col6\" class=\"data row20 col6\" >0</td>\n",
              "                        <td id=\"T_97ca73e2_d9d0_11eb_b403_0242ac1c0002row20_col7\" class=\"data row20 col7\" >1</td>\n",
              "                        <td id=\"T_97ca73e2_d9d0_11eb_b403_0242ac1c0002row20_col8\" class=\"data row20 col8\" >0</td>\n",
              "            </tr>\n",
              "            <tr>\n",
              "                        <th id=\"T_97ca73e2_d9d0_11eb_b403_0242ac1c0002level0_row21\" class=\"row_heading level0 row21\" >21</th>\n",
              "                        <td id=\"T_97ca73e2_d9d0_11eb_b403_0242ac1c0002row21_col0\" class=\"data row21 col0\" >0</td>\n",
              "                        <td id=\"T_97ca73e2_d9d0_11eb_b403_0242ac1c0002row21_col1\" class=\"data row21 col1\" >1</td>\n",
              "                        <td id=\"T_97ca73e2_d9d0_11eb_b403_0242ac1c0002row21_col2\" class=\"data row21 col2\" >0</td>\n",
              "                        <td id=\"T_97ca73e2_d9d0_11eb_b403_0242ac1c0002row21_col3\" class=\"data row21 col3\" >0</td>\n",
              "                        <td id=\"T_97ca73e2_d9d0_11eb_b403_0242ac1c0002row21_col4\" class=\"data row21 col4\" >0</td>\n",
              "                        <td id=\"T_97ca73e2_d9d0_11eb_b403_0242ac1c0002row21_col5\" class=\"data row21 col5\" >0</td>\n",
              "                        <td id=\"T_97ca73e2_d9d0_11eb_b403_0242ac1c0002row21_col6\" class=\"data row21 col6\" >0</td>\n",
              "                        <td id=\"T_97ca73e2_d9d0_11eb_b403_0242ac1c0002row21_col7\" class=\"data row21 col7\" >0</td>\n",
              "                        <td id=\"T_97ca73e2_d9d0_11eb_b403_0242ac1c0002row21_col8\" class=\"data row21 col8\" >0</td>\n",
              "            </tr>\n",
              "            <tr>\n",
              "                        <th id=\"T_97ca73e2_d9d0_11eb_b403_0242ac1c0002level0_row22\" class=\"row_heading level0 row22\" >22</th>\n",
              "                        <td id=\"T_97ca73e2_d9d0_11eb_b403_0242ac1c0002row22_col0\" class=\"data row22 col0\" >0</td>\n",
              "                        <td id=\"T_97ca73e2_d9d0_11eb_b403_0242ac1c0002row22_col1\" class=\"data row22 col1\" >0</td>\n",
              "                        <td id=\"T_97ca73e2_d9d0_11eb_b403_0242ac1c0002row22_col2\" class=\"data row22 col2\" >0</td>\n",
              "                        <td id=\"T_97ca73e2_d9d0_11eb_b403_0242ac1c0002row22_col3\" class=\"data row22 col3\" >1</td>\n",
              "                        <td id=\"T_97ca73e2_d9d0_11eb_b403_0242ac1c0002row22_col4\" class=\"data row22 col4\" >0</td>\n",
              "                        <td id=\"T_97ca73e2_d9d0_11eb_b403_0242ac1c0002row22_col5\" class=\"data row22 col5\" >0</td>\n",
              "                        <td id=\"T_97ca73e2_d9d0_11eb_b403_0242ac1c0002row22_col6\" class=\"data row22 col6\" >0</td>\n",
              "                        <td id=\"T_97ca73e2_d9d0_11eb_b403_0242ac1c0002row22_col7\" class=\"data row22 col7\" >0</td>\n",
              "                        <td id=\"T_97ca73e2_d9d0_11eb_b403_0242ac1c0002row22_col8\" class=\"data row22 col8\" >0</td>\n",
              "            </tr>\n",
              "            <tr>\n",
              "                        <th id=\"T_97ca73e2_d9d0_11eb_b403_0242ac1c0002level0_row23\" class=\"row_heading level0 row23\" >23</th>\n",
              "                        <td id=\"T_97ca73e2_d9d0_11eb_b403_0242ac1c0002row23_col0\" class=\"data row23 col0\" >0</td>\n",
              "                        <td id=\"T_97ca73e2_d9d0_11eb_b403_0242ac1c0002row23_col1\" class=\"data row23 col1\" >0</td>\n",
              "                        <td id=\"T_97ca73e2_d9d0_11eb_b403_0242ac1c0002row23_col2\" class=\"data row23 col2\" >0</td>\n",
              "                        <td id=\"T_97ca73e2_d9d0_11eb_b403_0242ac1c0002row23_col3\" class=\"data row23 col3\" >0</td>\n",
              "                        <td id=\"T_97ca73e2_d9d0_11eb_b403_0242ac1c0002row23_col4\" class=\"data row23 col4\" >0</td>\n",
              "                        <td id=\"T_97ca73e2_d9d0_11eb_b403_0242ac1c0002row23_col5\" class=\"data row23 col5\" >0</td>\n",
              "                        <td id=\"T_97ca73e2_d9d0_11eb_b403_0242ac1c0002row23_col6\" class=\"data row23 col6\" >1</td>\n",
              "                        <td id=\"T_97ca73e2_d9d0_11eb_b403_0242ac1c0002row23_col7\" class=\"data row23 col7\" >0</td>\n",
              "                        <td id=\"T_97ca73e2_d9d0_11eb_b403_0242ac1c0002row23_col8\" class=\"data row23 col8\" >0</td>\n",
              "            </tr>\n",
              "            <tr>\n",
              "                        <th id=\"T_97ca73e2_d9d0_11eb_b403_0242ac1c0002level0_row24\" class=\"row_heading level0 row24\" >24</th>\n",
              "                        <td id=\"T_97ca73e2_d9d0_11eb_b403_0242ac1c0002row24_col0\" class=\"data row24 col0\" >0</td>\n",
              "                        <td id=\"T_97ca73e2_d9d0_11eb_b403_0242ac1c0002row24_col1\" class=\"data row24 col1\" >0</td>\n",
              "                        <td id=\"T_97ca73e2_d9d0_11eb_b403_0242ac1c0002row24_col2\" class=\"data row24 col2\" >0</td>\n",
              "                        <td id=\"T_97ca73e2_d9d0_11eb_b403_0242ac1c0002row24_col3\" class=\"data row24 col3\" >0</td>\n",
              "                        <td id=\"T_97ca73e2_d9d0_11eb_b403_0242ac1c0002row24_col4\" class=\"data row24 col4\" >1</td>\n",
              "                        <td id=\"T_97ca73e2_d9d0_11eb_b403_0242ac1c0002row24_col5\" class=\"data row24 col5\" >0</td>\n",
              "                        <td id=\"T_97ca73e2_d9d0_11eb_b403_0242ac1c0002row24_col6\" class=\"data row24 col6\" >0</td>\n",
              "                        <td id=\"T_97ca73e2_d9d0_11eb_b403_0242ac1c0002row24_col7\" class=\"data row24 col7\" >0</td>\n",
              "                        <td id=\"T_97ca73e2_d9d0_11eb_b403_0242ac1c0002row24_col8\" class=\"data row24 col8\" >0</td>\n",
              "            </tr>\n",
              "            <tr>\n",
              "                        <th id=\"T_97ca73e2_d9d0_11eb_b403_0242ac1c0002level0_row25\" class=\"row_heading level0 row25\" >25</th>\n",
              "                        <td id=\"T_97ca73e2_d9d0_11eb_b403_0242ac1c0002row25_col0\" class=\"data row25 col0\" >0</td>\n",
              "                        <td id=\"T_97ca73e2_d9d0_11eb_b403_0242ac1c0002row25_col1\" class=\"data row25 col1\" >0</td>\n",
              "                        <td id=\"T_97ca73e2_d9d0_11eb_b403_0242ac1c0002row25_col2\" class=\"data row25 col2\" >1</td>\n",
              "                        <td id=\"T_97ca73e2_d9d0_11eb_b403_0242ac1c0002row25_col3\" class=\"data row25 col3\" >0</td>\n",
              "                        <td id=\"T_97ca73e2_d9d0_11eb_b403_0242ac1c0002row25_col4\" class=\"data row25 col4\" >0</td>\n",
              "                        <td id=\"T_97ca73e2_d9d0_11eb_b403_0242ac1c0002row25_col5\" class=\"data row25 col5\" >0</td>\n",
              "                        <td id=\"T_97ca73e2_d9d0_11eb_b403_0242ac1c0002row25_col6\" class=\"data row25 col6\" >0</td>\n",
              "                        <td id=\"T_97ca73e2_d9d0_11eb_b403_0242ac1c0002row25_col7\" class=\"data row25 col7\" >0</td>\n",
              "                        <td id=\"T_97ca73e2_d9d0_11eb_b403_0242ac1c0002row25_col8\" class=\"data row25 col8\" >0</td>\n",
              "            </tr>\n",
              "            <tr>\n",
              "                        <th id=\"T_97ca73e2_d9d0_11eb_b403_0242ac1c0002level0_row26\" class=\"row_heading level0 row26\" >26</th>\n",
              "                        <td id=\"T_97ca73e2_d9d0_11eb_b403_0242ac1c0002row26_col0\" class=\"data row26 col0\" >0</td>\n",
              "                        <td id=\"T_97ca73e2_d9d0_11eb_b403_0242ac1c0002row26_col1\" class=\"data row26 col1\" >0</td>\n",
              "                        <td id=\"T_97ca73e2_d9d0_11eb_b403_0242ac1c0002row26_col2\" class=\"data row26 col2\" >0</td>\n",
              "                        <td id=\"T_97ca73e2_d9d0_11eb_b403_0242ac1c0002row26_col3\" class=\"data row26 col3\" >1</td>\n",
              "                        <td id=\"T_97ca73e2_d9d0_11eb_b403_0242ac1c0002row26_col4\" class=\"data row26 col4\" >0</td>\n",
              "                        <td id=\"T_97ca73e2_d9d0_11eb_b403_0242ac1c0002row26_col5\" class=\"data row26 col5\" >0</td>\n",
              "                        <td id=\"T_97ca73e2_d9d0_11eb_b403_0242ac1c0002row26_col6\" class=\"data row26 col6\" >0</td>\n",
              "                        <td id=\"T_97ca73e2_d9d0_11eb_b403_0242ac1c0002row26_col7\" class=\"data row26 col7\" >0</td>\n",
              "                        <td id=\"T_97ca73e2_d9d0_11eb_b403_0242ac1c0002row26_col8\" class=\"data row26 col8\" >0</td>\n",
              "            </tr>\n",
              "            <tr>\n",
              "                        <th id=\"T_97ca73e2_d9d0_11eb_b403_0242ac1c0002level0_row27\" class=\"row_heading level0 row27\" >27</th>\n",
              "                        <td id=\"T_97ca73e2_d9d0_11eb_b403_0242ac1c0002row27_col0\" class=\"data row27 col0\" >1</td>\n",
              "                        <td id=\"T_97ca73e2_d9d0_11eb_b403_0242ac1c0002row27_col1\" class=\"data row27 col1\" >0</td>\n",
              "                        <td id=\"T_97ca73e2_d9d0_11eb_b403_0242ac1c0002row27_col2\" class=\"data row27 col2\" >0</td>\n",
              "                        <td id=\"T_97ca73e2_d9d0_11eb_b403_0242ac1c0002row27_col3\" class=\"data row27 col3\" >0</td>\n",
              "                        <td id=\"T_97ca73e2_d9d0_11eb_b403_0242ac1c0002row27_col4\" class=\"data row27 col4\" >0</td>\n",
              "                        <td id=\"T_97ca73e2_d9d0_11eb_b403_0242ac1c0002row27_col5\" class=\"data row27 col5\" >0</td>\n",
              "                        <td id=\"T_97ca73e2_d9d0_11eb_b403_0242ac1c0002row27_col6\" class=\"data row27 col6\" >0</td>\n",
              "                        <td id=\"T_97ca73e2_d9d0_11eb_b403_0242ac1c0002row27_col7\" class=\"data row27 col7\" >0</td>\n",
              "                        <td id=\"T_97ca73e2_d9d0_11eb_b403_0242ac1c0002row27_col8\" class=\"data row27 col8\" >0</td>\n",
              "            </tr>\n",
              "            <tr>\n",
              "                        <th id=\"T_97ca73e2_d9d0_11eb_b403_0242ac1c0002level0_row28\" class=\"row_heading level0 row28\" >28</th>\n",
              "                        <td id=\"T_97ca73e2_d9d0_11eb_b403_0242ac1c0002row28_col0\" class=\"data row28 col0\" >0</td>\n",
              "                        <td id=\"T_97ca73e2_d9d0_11eb_b403_0242ac1c0002row28_col1\" class=\"data row28 col1\" >1</td>\n",
              "                        <td id=\"T_97ca73e2_d9d0_11eb_b403_0242ac1c0002row28_col2\" class=\"data row28 col2\" >0</td>\n",
              "                        <td id=\"T_97ca73e2_d9d0_11eb_b403_0242ac1c0002row28_col3\" class=\"data row28 col3\" >0</td>\n",
              "                        <td id=\"T_97ca73e2_d9d0_11eb_b403_0242ac1c0002row28_col4\" class=\"data row28 col4\" >0</td>\n",
              "                        <td id=\"T_97ca73e2_d9d0_11eb_b403_0242ac1c0002row28_col5\" class=\"data row28 col5\" >0</td>\n",
              "                        <td id=\"T_97ca73e2_d9d0_11eb_b403_0242ac1c0002row28_col6\" class=\"data row28 col6\" >0</td>\n",
              "                        <td id=\"T_97ca73e2_d9d0_11eb_b403_0242ac1c0002row28_col7\" class=\"data row28 col7\" >0</td>\n",
              "                        <td id=\"T_97ca73e2_d9d0_11eb_b403_0242ac1c0002row28_col8\" class=\"data row28 col8\" >0</td>\n",
              "            </tr>\n",
              "            <tr>\n",
              "                        <th id=\"T_97ca73e2_d9d0_11eb_b403_0242ac1c0002level0_row29\" class=\"row_heading level0 row29\" >29</th>\n",
              "                        <td id=\"T_97ca73e2_d9d0_11eb_b403_0242ac1c0002row29_col0\" class=\"data row29 col0\" >0</td>\n",
              "                        <td id=\"T_97ca73e2_d9d0_11eb_b403_0242ac1c0002row29_col1\" class=\"data row29 col1\" >0</td>\n",
              "                        <td id=\"T_97ca73e2_d9d0_11eb_b403_0242ac1c0002row29_col2\" class=\"data row29 col2\" >0</td>\n",
              "                        <td id=\"T_97ca73e2_d9d0_11eb_b403_0242ac1c0002row29_col3\" class=\"data row29 col3\" >0</td>\n",
              "                        <td id=\"T_97ca73e2_d9d0_11eb_b403_0242ac1c0002row29_col4\" class=\"data row29 col4\" >1</td>\n",
              "                        <td id=\"T_97ca73e2_d9d0_11eb_b403_0242ac1c0002row29_col5\" class=\"data row29 col5\" >0</td>\n",
              "                        <td id=\"T_97ca73e2_d9d0_11eb_b403_0242ac1c0002row29_col6\" class=\"data row29 col6\" >0</td>\n",
              "                        <td id=\"T_97ca73e2_d9d0_11eb_b403_0242ac1c0002row29_col7\" class=\"data row29 col7\" >0</td>\n",
              "                        <td id=\"T_97ca73e2_d9d0_11eb_b403_0242ac1c0002row29_col8\" class=\"data row29 col8\" >0</td>\n",
              "            </tr>\n",
              "            <tr>\n",
              "                        <th id=\"T_97ca73e2_d9d0_11eb_b403_0242ac1c0002level0_row30\" class=\"row_heading level0 row30\" >30</th>\n",
              "                        <td id=\"T_97ca73e2_d9d0_11eb_b403_0242ac1c0002row30_col0\" class=\"data row30 col0\" >0</td>\n",
              "                        <td id=\"T_97ca73e2_d9d0_11eb_b403_0242ac1c0002row30_col1\" class=\"data row30 col1\" >1</td>\n",
              "                        <td id=\"T_97ca73e2_d9d0_11eb_b403_0242ac1c0002row30_col2\" class=\"data row30 col2\" >0</td>\n",
              "                        <td id=\"T_97ca73e2_d9d0_11eb_b403_0242ac1c0002row30_col3\" class=\"data row30 col3\" >0</td>\n",
              "                        <td id=\"T_97ca73e2_d9d0_11eb_b403_0242ac1c0002row30_col4\" class=\"data row30 col4\" >0</td>\n",
              "                        <td id=\"T_97ca73e2_d9d0_11eb_b403_0242ac1c0002row30_col5\" class=\"data row30 col5\" >0</td>\n",
              "                        <td id=\"T_97ca73e2_d9d0_11eb_b403_0242ac1c0002row30_col6\" class=\"data row30 col6\" >0</td>\n",
              "                        <td id=\"T_97ca73e2_d9d0_11eb_b403_0242ac1c0002row30_col7\" class=\"data row30 col7\" >0</td>\n",
              "                        <td id=\"T_97ca73e2_d9d0_11eb_b403_0242ac1c0002row30_col8\" class=\"data row30 col8\" >0</td>\n",
              "            </tr>\n",
              "            <tr>\n",
              "                        <th id=\"T_97ca73e2_d9d0_11eb_b403_0242ac1c0002level0_row31\" class=\"row_heading level0 row31\" >31</th>\n",
              "                        <td id=\"T_97ca73e2_d9d0_11eb_b403_0242ac1c0002row31_col0\" class=\"data row31 col0\" >0</td>\n",
              "                        <td id=\"T_97ca73e2_d9d0_11eb_b403_0242ac1c0002row31_col1\" class=\"data row31 col1\" >0</td>\n",
              "                        <td id=\"T_97ca73e2_d9d0_11eb_b403_0242ac1c0002row31_col2\" class=\"data row31 col2\" >1</td>\n",
              "                        <td id=\"T_97ca73e2_d9d0_11eb_b403_0242ac1c0002row31_col3\" class=\"data row31 col3\" >0</td>\n",
              "                        <td id=\"T_97ca73e2_d9d0_11eb_b403_0242ac1c0002row31_col4\" class=\"data row31 col4\" >0</td>\n",
              "                        <td id=\"T_97ca73e2_d9d0_11eb_b403_0242ac1c0002row31_col5\" class=\"data row31 col5\" >0</td>\n",
              "                        <td id=\"T_97ca73e2_d9d0_11eb_b403_0242ac1c0002row31_col6\" class=\"data row31 col6\" >0</td>\n",
              "                        <td id=\"T_97ca73e2_d9d0_11eb_b403_0242ac1c0002row31_col7\" class=\"data row31 col7\" >0</td>\n",
              "                        <td id=\"T_97ca73e2_d9d0_11eb_b403_0242ac1c0002row31_col8\" class=\"data row31 col8\" >0</td>\n",
              "            </tr>\n",
              "            <tr>\n",
              "                        <th id=\"T_97ca73e2_d9d0_11eb_b403_0242ac1c0002level0_row32\" class=\"row_heading level0 row32\" >32</th>\n",
              "                        <td id=\"T_97ca73e2_d9d0_11eb_b403_0242ac1c0002row32_col0\" class=\"data row32 col0\" >1</td>\n",
              "                        <td id=\"T_97ca73e2_d9d0_11eb_b403_0242ac1c0002row32_col1\" class=\"data row32 col1\" >0</td>\n",
              "                        <td id=\"T_97ca73e2_d9d0_11eb_b403_0242ac1c0002row32_col2\" class=\"data row32 col2\" >0</td>\n",
              "                        <td id=\"T_97ca73e2_d9d0_11eb_b403_0242ac1c0002row32_col3\" class=\"data row32 col3\" >0</td>\n",
              "                        <td id=\"T_97ca73e2_d9d0_11eb_b403_0242ac1c0002row32_col4\" class=\"data row32 col4\" >0</td>\n",
              "                        <td id=\"T_97ca73e2_d9d0_11eb_b403_0242ac1c0002row32_col5\" class=\"data row32 col5\" >0</td>\n",
              "                        <td id=\"T_97ca73e2_d9d0_11eb_b403_0242ac1c0002row32_col6\" class=\"data row32 col6\" >0</td>\n",
              "                        <td id=\"T_97ca73e2_d9d0_11eb_b403_0242ac1c0002row32_col7\" class=\"data row32 col7\" >0</td>\n",
              "                        <td id=\"T_97ca73e2_d9d0_11eb_b403_0242ac1c0002row32_col8\" class=\"data row32 col8\" >0</td>\n",
              "            </tr>\n",
              "            <tr>\n",
              "                        <th id=\"T_97ca73e2_d9d0_11eb_b403_0242ac1c0002level0_row33\" class=\"row_heading level0 row33\" >33</th>\n",
              "                        <td id=\"T_97ca73e2_d9d0_11eb_b403_0242ac1c0002row33_col0\" class=\"data row33 col0\" >0</td>\n",
              "                        <td id=\"T_97ca73e2_d9d0_11eb_b403_0242ac1c0002row33_col1\" class=\"data row33 col1\" >0</td>\n",
              "                        <td id=\"T_97ca73e2_d9d0_11eb_b403_0242ac1c0002row33_col2\" class=\"data row33 col2\" >0</td>\n",
              "                        <td id=\"T_97ca73e2_d9d0_11eb_b403_0242ac1c0002row33_col3\" class=\"data row33 col3\" >0</td>\n",
              "                        <td id=\"T_97ca73e2_d9d0_11eb_b403_0242ac1c0002row33_col4\" class=\"data row33 col4\" >0</td>\n",
              "                        <td id=\"T_97ca73e2_d9d0_11eb_b403_0242ac1c0002row33_col5\" class=\"data row33 col5\" >1</td>\n",
              "                        <td id=\"T_97ca73e2_d9d0_11eb_b403_0242ac1c0002row33_col6\" class=\"data row33 col6\" >0</td>\n",
              "                        <td id=\"T_97ca73e2_d9d0_11eb_b403_0242ac1c0002row33_col7\" class=\"data row33 col7\" >0</td>\n",
              "                        <td id=\"T_97ca73e2_d9d0_11eb_b403_0242ac1c0002row33_col8\" class=\"data row33 col8\" >0</td>\n",
              "            </tr>\n",
              "            <tr>\n",
              "                        <th id=\"T_97ca73e2_d9d0_11eb_b403_0242ac1c0002level0_row34\" class=\"row_heading level0 row34\" >34</th>\n",
              "                        <td id=\"T_97ca73e2_d9d0_11eb_b403_0242ac1c0002row34_col0\" class=\"data row34 col0\" >1</td>\n",
              "                        <td id=\"T_97ca73e2_d9d0_11eb_b403_0242ac1c0002row34_col1\" class=\"data row34 col1\" >0</td>\n",
              "                        <td id=\"T_97ca73e2_d9d0_11eb_b403_0242ac1c0002row34_col2\" class=\"data row34 col2\" >0</td>\n",
              "                        <td id=\"T_97ca73e2_d9d0_11eb_b403_0242ac1c0002row34_col3\" class=\"data row34 col3\" >0</td>\n",
              "                        <td id=\"T_97ca73e2_d9d0_11eb_b403_0242ac1c0002row34_col4\" class=\"data row34 col4\" >0</td>\n",
              "                        <td id=\"T_97ca73e2_d9d0_11eb_b403_0242ac1c0002row34_col5\" class=\"data row34 col5\" >0</td>\n",
              "                        <td id=\"T_97ca73e2_d9d0_11eb_b403_0242ac1c0002row34_col6\" class=\"data row34 col6\" >0</td>\n",
              "                        <td id=\"T_97ca73e2_d9d0_11eb_b403_0242ac1c0002row34_col7\" class=\"data row34 col7\" >0</td>\n",
              "                        <td id=\"T_97ca73e2_d9d0_11eb_b403_0242ac1c0002row34_col8\" class=\"data row34 col8\" >0</td>\n",
              "            </tr>\n",
              "            <tr>\n",
              "                        <th id=\"T_97ca73e2_d9d0_11eb_b403_0242ac1c0002level0_row35\" class=\"row_heading level0 row35\" >35</th>\n",
              "                        <td id=\"T_97ca73e2_d9d0_11eb_b403_0242ac1c0002row35_col0\" class=\"data row35 col0\" >0</td>\n",
              "                        <td id=\"T_97ca73e2_d9d0_11eb_b403_0242ac1c0002row35_col1\" class=\"data row35 col1\" >0</td>\n",
              "                        <td id=\"T_97ca73e2_d9d0_11eb_b403_0242ac1c0002row35_col2\" class=\"data row35 col2\" >0</td>\n",
              "                        <td id=\"T_97ca73e2_d9d0_11eb_b403_0242ac1c0002row35_col3\" class=\"data row35 col3\" >0</td>\n",
              "                        <td id=\"T_97ca73e2_d9d0_11eb_b403_0242ac1c0002row35_col4\" class=\"data row35 col4\" >0</td>\n",
              "                        <td id=\"T_97ca73e2_d9d0_11eb_b403_0242ac1c0002row35_col5\" class=\"data row35 col5\" >1</td>\n",
              "                        <td id=\"T_97ca73e2_d9d0_11eb_b403_0242ac1c0002row35_col6\" class=\"data row35 col6\" >0</td>\n",
              "                        <td id=\"T_97ca73e2_d9d0_11eb_b403_0242ac1c0002row35_col7\" class=\"data row35 col7\" >0</td>\n",
              "                        <td id=\"T_97ca73e2_d9d0_11eb_b403_0242ac1c0002row35_col8\" class=\"data row35 col8\" >0</td>\n",
              "            </tr>\n",
              "            <tr>\n",
              "                        <th id=\"T_97ca73e2_d9d0_11eb_b403_0242ac1c0002level0_row36\" class=\"row_heading level0 row36\" >36</th>\n",
              "                        <td id=\"T_97ca73e2_d9d0_11eb_b403_0242ac1c0002row36_col0\" class=\"data row36 col0\" >0</td>\n",
              "                        <td id=\"T_97ca73e2_d9d0_11eb_b403_0242ac1c0002row36_col1\" class=\"data row36 col1\" >0</td>\n",
              "                        <td id=\"T_97ca73e2_d9d0_11eb_b403_0242ac1c0002row36_col2\" class=\"data row36 col2\" >1</td>\n",
              "                        <td id=\"T_97ca73e2_d9d0_11eb_b403_0242ac1c0002row36_col3\" class=\"data row36 col3\" >0</td>\n",
              "                        <td id=\"T_97ca73e2_d9d0_11eb_b403_0242ac1c0002row36_col4\" class=\"data row36 col4\" >0</td>\n",
              "                        <td id=\"T_97ca73e2_d9d0_11eb_b403_0242ac1c0002row36_col5\" class=\"data row36 col5\" >0</td>\n",
              "                        <td id=\"T_97ca73e2_d9d0_11eb_b403_0242ac1c0002row36_col6\" class=\"data row36 col6\" >0</td>\n",
              "                        <td id=\"T_97ca73e2_d9d0_11eb_b403_0242ac1c0002row36_col7\" class=\"data row36 col7\" >0</td>\n",
              "                        <td id=\"T_97ca73e2_d9d0_11eb_b403_0242ac1c0002row36_col8\" class=\"data row36 col8\" >0</td>\n",
              "            </tr>\n",
              "            <tr>\n",
              "                        <th id=\"T_97ca73e2_d9d0_11eb_b403_0242ac1c0002level0_row37\" class=\"row_heading level0 row37\" >37</th>\n",
              "                        <td id=\"T_97ca73e2_d9d0_11eb_b403_0242ac1c0002row37_col0\" class=\"data row37 col0\" >0</td>\n",
              "                        <td id=\"T_97ca73e2_d9d0_11eb_b403_0242ac1c0002row37_col1\" class=\"data row37 col1\" >1</td>\n",
              "                        <td id=\"T_97ca73e2_d9d0_11eb_b403_0242ac1c0002row37_col2\" class=\"data row37 col2\" >0</td>\n",
              "                        <td id=\"T_97ca73e2_d9d0_11eb_b403_0242ac1c0002row37_col3\" class=\"data row37 col3\" >0</td>\n",
              "                        <td id=\"T_97ca73e2_d9d0_11eb_b403_0242ac1c0002row37_col4\" class=\"data row37 col4\" >0</td>\n",
              "                        <td id=\"T_97ca73e2_d9d0_11eb_b403_0242ac1c0002row37_col5\" class=\"data row37 col5\" >0</td>\n",
              "                        <td id=\"T_97ca73e2_d9d0_11eb_b403_0242ac1c0002row37_col6\" class=\"data row37 col6\" >0</td>\n",
              "                        <td id=\"T_97ca73e2_d9d0_11eb_b403_0242ac1c0002row37_col7\" class=\"data row37 col7\" >0</td>\n",
              "                        <td id=\"T_97ca73e2_d9d0_11eb_b403_0242ac1c0002row37_col8\" class=\"data row37 col8\" >0</td>\n",
              "            </tr>\n",
              "    </tbody></table>"
            ]
          },
          "metadata": {
            "tags": []
          }
        }
      ]
    },
    {
      "cell_type": "markdown",
      "metadata": {
        "id": "ymfQj1-hKrbF"
      },
      "source": [
        "## 7. 振り返り・展望\n",
        "\n",
        "- 「スポット講義の講師の割り当て」というオリジナルな問題について、問題設定、定式化、構築、実行、評価という量子アニーリングの一連のタスクを実装することができた。\n",
        "- 本問題の改良の余地として、講師の属性(ベテラン、若手など)を考慮した割り当ての仕組みを検討していきたい。"
      ]
    }
  ]
}
