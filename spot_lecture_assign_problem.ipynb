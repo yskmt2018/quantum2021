{
  "nbformat": 4,
  "nbformat_minor": 0,
  "metadata": {
    "colab": {
      "name": "spot_lecture_assign_problem.ipynb",
      "provenance": [],
      "collapsed_sections": [],
      "authorship_tag": "ABX9TyM9AUytSVPjFxnAtiOcGrlH",
      "include_colab_link": true
    },
    "kernelspec": {
      "name": "python3",
      "display_name": "Python 3"
    },
    "language_info": {
      "name": "python"
    },
    "accelerator": "TPU"
  },
  "cells": [
    {
      "cell_type": "markdown",
      "metadata": {
        "id": "view-in-github",
        "colab_type": "text"
      },
      "source": [
        "<a href=\"https://colab.research.google.com/github/yskmt2018/quantum2021/blob/main/spot_lecture_assign_problem.ipynb\" target=\"_parent\"><img src=\"https://colab.research.google.com/assets/colab-badge.svg\" alt=\"Open In Colab\"/></a>"
      ]
    },
    {
      "cell_type": "markdown",
      "metadata": {
        "id": "opBlB_ceRyLn"
      },
      "source": [
        "# スポット講義割り当て問題 - Spot Lecture Assign Problem\n",
        "- This notebook was created and tested on Google Colaboratory. (2021/06)"
      ]
    },
    {
      "cell_type": "code",
      "metadata": {
        "id": "_SAq2WmUS6cT",
        "colab": {
          "base_uri": "https://localhost:8080/"
        },
        "outputId": "26a98197-9bf4-407f-9a58-4eccb06b54e5"
      },
      "source": [
        "!python -V\n",
        "!pip install --quiet pyqubo==1.0.12 openjij==0.3.5"
      ],
      "execution_count": 1,
      "outputs": [
        {
          "output_type": "stream",
          "text": [
            "Python 3.7.10\n"
          ],
          "name": "stdout"
        }
      ]
    },
    {
      "cell_type": "code",
      "metadata": {
        "id": "QYQ0flUfRidg"
      },
      "source": [
        "import numpy as np\n",
        "import pyqubo as pq\n",
        "import openjij as oj\n",
        "np.random.seed(0)"
      ],
      "execution_count": 2,
      "outputs": []
    },
    {
      "cell_type": "markdown",
      "metadata": {
        "id": "QD53iCNbRD3n"
      },
      "source": [
        "## 目次\n",
        "\n",
        "0. 目的\n",
        "1. 問題設定\n",
        "2. 定式化\n",
        "3. Hamiltonian & QUBO\n",
        "4. (疑似)量子アニーリング\n",
        "5. 展望"
      ]
    },
    {
      "cell_type": "markdown",
      "metadata": {
        "id": "OKdVcrWxQ1OD"
      },
      "source": [
        "## 0. 目的\n",
        "\n",
        "- スポット講義における「講師の割り当て」問題について、組合せ最適化問題として定式化し、(疑似)量子アニーリングを用いて解を得る。"
      ]
    },
    {
      "cell_type": "markdown",
      "metadata": {
        "id": "7LYs0qAHKJzJ"
      },
      "source": [
        "## 1. 問題設定\n",
        "\n",
        "今回は、以下の条件を適用する。\n",
        "\n",
        "- 講師数、講義数、各講義の人数は、2020年度スポット講義の実績値を利用する。\n",
        "- 各講師は、第1～第3希望を出す。できるだけ高い希望の講義に選ばれるようにする。\n",
        "- 各講師は、希望しない講義を2つ出す。希望しない講義に選ばれてはならない。\n",
        "- 各講師は、2つ以上の講義を受け持ってはならない。また、講師全員が講義を担当しなくてはならない。\n",
        "- 各講義の定員を満たさなくてはならない。"
      ]
    },
    {
      "cell_type": "code",
      "metadata": {
        "id": "S99LkHIDUa41"
      },
      "source": [
        "# 講師数(2020年度実績)\n",
        "Tn = 38\n",
        "# 講義数(2020年度実績)\n",
        "Sn = 9"
      ],
      "execution_count": 3,
      "outputs": []
    },
    {
      "cell_type": "code",
      "metadata": {
        "id": "zhBkNz72RKnG",
        "colab": {
          "base_uri": "https://localhost:8080/"
        },
        "outputId": "90edb1cc-bec0-4755-a9a0-e1820065dcb9"
      },
      "source": [
        "# 講師のリスト\n",
        "T = [t for t in range(Tn)]\n",
        "print(T)"
      ],
      "execution_count": 4,
      "outputs": [
        {
          "output_type": "stream",
          "text": [
            "[0, 1, 2, 3, 4, 5, 6, 7, 8, 9, 10, 11, 12, 13, 14, 15, 16, 17, 18, 19, 20, 21, 22, 23, 24, 25, 26, 27, 28, 29, 30, 31, 32, 33, 34, 35, 36, 37]\n"
          ],
          "name": "stdout"
        }
      ]
    },
    {
      "cell_type": "code",
      "metadata": {
        "id": "OGLWkv0mTKv3",
        "colab": {
          "base_uri": "https://localhost:8080/"
        },
        "outputId": "f6b4c988-ca3e-4c37-f4e9-504cb5db8944"
      },
      "source": [
        "# 講義のリスト\n",
        "S = [s for s in range(Sn)]\n",
        "print(S)"
      ],
      "execution_count": 5,
      "outputs": [
        {
          "output_type": "stream",
          "text": [
            "[0, 1, 2, 3, 4, 5, 6, 7, 8]\n"
          ],
          "name": "stdout"
        }
      ]
    },
    {
      "cell_type": "code",
      "metadata": {
        "id": "fd5gJTwpVwoX",
        "colab": {
          "base_uri": "https://localhost:8080/"
        },
        "outputId": "4c53c13e-e863-4d68-ad85-45bb2c650890"
      },
      "source": [
        "# 各講義の参加人数\n",
        "Sn_s = np.full(shape=Sn, fill_value=4, dtype=np.int)\n",
        "# 人数が4名の講義が7個、5名の講義が2個(2020年度実績)\n",
        "Sn_s[3] = 5\n",
        "Sn_s[7] = 5\n",
        "print(Sn_s)"
      ],
      "execution_count": 6,
      "outputs": [
        {
          "output_type": "stream",
          "text": [
            "[4 4 4 5 4 4 4 5 4]\n"
          ],
          "name": "stdout"
        }
      ]
    },
    {
      "cell_type": "code",
      "metadata": {
        "id": "wV9Pj0cJX9VA",
        "colab": {
          "base_uri": "https://localhost:8080/"
        },
        "outputId": "085f1755-85e7-49fa-e321-ea9b15ed9ede"
      },
      "source": [
        "# 各講師の希望する講義をランダム選択: 第1-3希望に3-1点, その他:-1点\n",
        "C_ts = np.full(shape=(Tn, Sn), fill_value=-1, dtype=np.int)\n",
        "for t in T:\n",
        "  # 希望する講義を S から 3 個ランダムに選択する。replace=False で重複なし\n",
        "  hopes = np.random.choice(S, size=3, replace=False)\n",
        "  C_ts[t][hopes] = [3, 2, 1]\n",
        "print(C_ts)"
      ],
      "execution_count": 7,
      "outputs": [
        {
          "output_type": "stream",
          "text": [
            "[[-1  1  2 -1 -1 -1 -1  3 -1]\n",
            " [-1  2 -1  3 -1 -1 -1  1 -1]\n",
            " [-1 -1  2  1 -1  3 -1 -1 -1]\n",
            " [-1 -1  3 -1 -1 -1  2  1 -1]\n",
            " [-1 -1 -1 -1  1  3 -1  2 -1]\n",
            " [-1 -1  3 -1 -1 -1 -1  1  2]\n",
            " [ 1  3 -1 -1 -1 -1 -1 -1  2]\n",
            " [-1  1  2  3 -1 -1 -1 -1 -1]\n",
            " [-1 -1 -1  1 -1  2 -1 -1  3]\n",
            " [-1  2 -1 -1  3  1 -1 -1 -1]\n",
            " [ 1 -1 -1 -1 -1 -1  3 -1  2]\n",
            " [-1  3  2 -1 -1  1 -1 -1 -1]\n",
            " [-1 -1 -1 -1 -1 -1  2  1  3]\n",
            " [-1 -1 -1 -1  3 -1  1 -1  2]\n",
            " [-1 -1 -1 -1  3 -1  2 -1  1]\n",
            " [-1 -1 -1 -1  1 -1  3  2 -1]\n",
            " [ 3 -1 -1 -1 -1  2 -1 -1  1]\n",
            " [ 3 -1 -1 -1 -1  2 -1  1 -1]\n",
            " [-1 -1 -1 -1 -1 -1  1  3  2]\n",
            " [-1  2 -1 -1  1  3 -1 -1 -1]\n",
            " [-1 -1  1  2 -1 -1 -1  3 -1]\n",
            " [-1  3 -1 -1 -1 -1 -1  1  2]\n",
            " [-1 -1 -1 -1 -1  3 -1  2  1]\n",
            " [ 3  1 -1 -1 -1 -1  2 -1 -1]\n",
            " [-1 -1  3  1  2 -1 -1 -1 -1]\n",
            " [-1 -1  2 -1  3 -1 -1 -1  1]\n",
            " [-1  1  3 -1  2 -1 -1 -1 -1]\n",
            " [ 2 -1  1 -1 -1 -1 -1  3 -1]\n",
            " [-1  3 -1 -1  1 -1  2 -1 -1]\n",
            " [-1  3  2 -1  1 -1 -1 -1 -1]\n",
            " [ 1  3  2 -1 -1 -1 -1 -1 -1]\n",
            " [ 3 -1  2 -1 -1 -1  1 -1 -1]\n",
            " [ 2 -1  1 -1  3 -1 -1 -1 -1]\n",
            " [ 3 -1 -1 -1 -1  1 -1  2 -1]\n",
            " [ 2 -1 -1  1 -1 -1  3 -1 -1]\n",
            " [-1 -1  1 -1 -1 -1 -1  3  2]\n",
            " [-1 -1  3  2 -1 -1 -1 -1  1]\n",
            " [-1  1  2 -1 -1 -1 -1  3 -1]]\n"
          ],
          "name": "stdout"
        }
      ]
    },
    {
      "cell_type": "code",
      "metadata": {
        "id": "BvwX6AI63KZ7",
        "colab": {
          "base_uri": "https://localhost:8080/"
        },
        "outputId": "e717f1f0-a435-478f-d4ac-4c5fcc4dba95"
      },
      "source": [
        "# 各講師の希望しない講義をランダム選択: 対象の講義に1, それ以外:0\n",
        "NG_ts = np.zeros(shape=(Tn, Sn), dtype=np.int)\n",
        "for t in T:\n",
        "  # 希望しない講義を C_ts で -1 となっている講義から 2 個ランダムに選択する。replace=False で重複なし\n",
        "  ng = np.random.choice(np.where(C_ts[t] == -1)[0], size=2, replace=False)\n",
        "  NG_ts[t][ng] = [1, 1]\n",
        "print(NG_ts)"
      ],
      "execution_count": 8,
      "outputs": [
        {
          "output_type": "stream",
          "text": [
            "[[1 0 0 1 0 0 0 0 0]\n",
            " [1 0 0 0 0 1 0 0 0]\n",
            " [1 0 0 0 0 0 0 0 1]\n",
            " [1 0 0 0 0 0 0 0 1]\n",
            " [1 0 0 0 0 0 1 0 0]\n",
            " [1 0 0 1 0 0 0 0 0]\n",
            " [0 0 1 0 0 1 0 0 0]\n",
            " [0 0 0 0 0 1 0 0 1]\n",
            " [0 1 0 0 1 0 0 0 0]\n",
            " [0 0 1 1 0 0 0 0 0]\n",
            " [0 0 1 0 0 1 0 0 0]\n",
            " [0 0 0 0 0 0 1 1 0]\n",
            " [0 1 1 0 0 0 0 0 0]\n",
            " [0 1 0 0 0 0 0 1 0]\n",
            " [0 1 0 1 0 0 0 0 0]\n",
            " [0 1 0 0 0 0 0 0 1]\n",
            " [0 0 0 1 1 0 0 0 0]\n",
            " [0 1 0 0 1 0 0 0 0]\n",
            " [1 0 1 0 0 0 0 0 0]\n",
            " [1 0 1 0 0 0 0 0 0]\n",
            " [0 1 0 0 0 0 0 0 1]\n",
            " [1 0 0 0 0 1 0 0 0]\n",
            " [0 1 0 0 1 0 0 0 0]\n",
            " [0 0 1 0 0 0 0 0 1]\n",
            " [1 0 0 0 0 0 0 0 1]\n",
            " [0 1 0 1 0 0 0 0 0]\n",
            " [0 0 0 0 0 0 1 1 0]\n",
            " [0 0 0 0 0 1 0 0 1]\n",
            " [0 0 0 0 0 1 0 1 0]\n",
            " [1 0 0 0 0 0 1 0 0]\n",
            " [0 0 0 1 0 1 0 0 0]\n",
            " [0 1 0 0 1 0 0 0 0]\n",
            " [0 1 0 0 0 1 0 0 0]\n",
            " [0 0 1 1 0 0 0 0 0]\n",
            " [0 0 1 0 0 0 0 0 1]\n",
            " [0 0 0 1 0 0 1 0 0]\n",
            " [0 0 0 0 0 1 1 0 0]\n",
            " [0 0 0 1 1 0 0 0 0]]\n"
          ],
          "name": "stdout"
        }
      ]
    },
    {
      "cell_type": "markdown",
      "metadata": {
        "id": "Mz_twCIlUptZ"
      },
      "source": [
        "## 2. 定式化\n",
        "\n",
        "- 「目的関数」と「制約項」を作成する。\n",
        "- 目的関数が「最大(最小)化する指標」を、制約項が「遵守させる条件」を表現する。\n",
        "- 制約項は、制約違反がない場合0を返す。0でない場合、ハミルトニアン(後述)のエネルギーが極端に大きく(不安定な状態に)なるため、制約を守るように作用する。"
      ]
    },
    {
      "cell_type": "markdown",
      "metadata": {
        "id": "UpwKtMOTfQ48"
      },
      "source": [
        "### 目的関数\n",
        "\n",
        "- 各講師の希望(を元にした点数の総和)の最大化を目指す。\n",
        " - 各講師の点数が C [ t ][ s ] * x [ t ][ s ] であり、その総和(全員の点数の合計)を算出する。\n",
        " - 目的関数はコスト関数とも呼ばれ、この関数の出力が小さいほど優れた解である。そのため、最大化問題の際には結果に-1を乗し、優れた解であるほど出力を小さくする必要がある。\n",
        "\n",
        "$$\n",
        "maximize \\sum_{t \\in_{T}, s \\in_{S}} (C_{ts} * x_{ts})\n",
        "$$"
      ]
    },
    {
      "cell_type": "code",
      "metadata": {
        "id": "DHkpQrBRaLRV"
      },
      "source": [
        "def objective(x):\n",
        "  H = sum(C_ts[t][s] * x[t][s] for t in T for s in S)\n",
        "  # 最大化のため\n",
        "  return H * (-1)"
      ],
      "execution_count": 9,
      "outputs": []
    },
    {
      "cell_type": "markdown",
      "metadata": {
        "id": "RyNedUKBhK4G"
      },
      "source": [
        "### 制約項 1. 受け持つ講義は1つ\n",
        "\n",
        "- 各講師の受け持つ講義は1つであることを課す。\n",
        "  - 各講師の受け持つ講義の数が sum( x [ t ][ s ] for s in S ) であり、全ての講師 t∈T について、この数が1でなくてはならない。\n",
        "\n",
        "$$\n",
        "\\forall_{t \\in_{T}}, \\sum_{s \\in_{S}} x_{ts} = 1\n",
        "$$"
      ]
    },
    {
      "cell_type": "code",
      "metadata": {
        "id": "V6htpTCXhKAi"
      },
      "source": [
        "def constraint_onlyone(x):\n",
        "  # 制約違反の場合、必ず正の値を返す必要があるため、2乗する\n",
        "  return sum(\n",
        "      (sum(x[t][s] for s in S) - 1)**2 for t in T\n",
        "  )"
      ],
      "execution_count": 10,
      "outputs": []
    },
    {
      "cell_type": "markdown",
      "metadata": {
        "id": "5nosjM3wjm4j"
      },
      "source": [
        "### 制約項 2. 定員\n",
        "\n",
        "- 各講義の定員が満たされることを課す。\n",
        "  - 各講義の参加人数が sum( x [ t ][ s ] for t in T ) であり、全ての講義 s∈S について、この数が各講義の参加人数( Sn [ s ] )と一致しなくてはならない。 \n",
        "\n",
        "$$\n",
        "\\forall_{s \\in_{S}}, \\sum_{t \\in_{T}} x_{ts} = Sn_{s}\n",
        "$$"
      ]
    },
    {
      "cell_type": "code",
      "metadata": {
        "id": "jsRtjv12jlxJ"
      },
      "source": [
        "def constraint_capacity(x):\n",
        "  # 制約違反の場合、必ず正の値を返す必要があるため、2乗する\n",
        "  return sum(\n",
        "      (sum(x[t][s] for t in T) - Sn_s[s])**2 for s in S\n",
        "  )"
      ],
      "execution_count": 11,
      "outputs": []
    },
    {
      "cell_type": "markdown",
      "metadata": {
        "id": "Xe4t06fE56J4"
      },
      "source": [
        "### 制約項 3. 希望しない講義に割り当てない\n",
        "\n",
        "- 各講師を希望しない講義に割り当てないことを課す。\n",
        "  - NG [ t ][ s ] * x [ t ][ s ] は、希望しない講義に割り当てられた場合1となる。全ての講師 t∈T について、この数が0でなくてはならない。\n",
        "\n",
        "$$\n",
        "\\forall_{t \\in_{T}}, \\sum_{s \\in_{S}} NG_{ts} * x_{ts} = 0\n",
        "$$"
      ]
    },
    {
      "cell_type": "code",
      "metadata": {
        "id": "mRbApn6-6WOt"
      },
      "source": [
        "def constraint_unwanted(x):\n",
        "  return sum(\n",
        "      sum(NG_ts[t][s] * x[t][s] for s in S) for t in T\n",
        "  )"
      ],
      "execution_count": 12,
      "outputs": []
    },
    {
      "cell_type": "markdown",
      "metadata": {
        "id": "Ileofz4XU4za"
      },
      "source": [
        "## 3. Hamiltonian & QUBO\n",
        "\n",
        "- ライブラリを利用して、Hamiltonian(ハミルトニアン)を構築し、QUBO(キューボ)に変換する。ここでは、【[PyQUBO](https://github.com/recruit-communications/pyqubo)】を利用する。\n",
        "- 利用できるライブラリとして、他に【[JijModeling](https://jijmodeling-docs.jij-cloud.com/)】がある。"
      ]
    },
    {
      "cell_type": "markdown",
      "metadata": {
        "id": "EzE6PMyNl6K7"
      },
      "source": [
        "### Hamiltonian\n",
        "\n",
        "- 定式化した目的関数、制約項を結合し、Hamiltonianと呼ばれる、本問題のエネルギーに対応する物理量を表現する。\n",
        "- 各制約項には、重み係数としてλが掛け合わされる。制約項が0以外の値を返却(制約違反)した場合、係数が高い程、重いペナルティが課される。\n",
        "\n",
        "$$\n",
        "H = - \\sum_{t \\in_{T}, s \\in_{S}} (C_{ts} * x_{ts})\n",
        "+ \\lambda_0 \\sum_{t \\in_{T}}(\\sum_{s \\in_{S}} x_{ts} - 1)^2\n",
        "+ \\lambda_1 \\sum_{s \\in_{S}}(\\sum_{t \\in_{T}} x_{ts} - Sn_{s})^2\n",
        "+ \\lambda_2 \\sum_{t \\in_{T}}(\\sum_{s \\in_{S}} NG_{ts} * x_{ts})\n",
        "$$"
      ]
    },
    {
      "cell_type": "code",
      "metadata": {
        "id": "5eUgm8oSoIsT"
      },
      "source": [
        "# 講師t∈Tが講義s∈Sを担当するかどうかの目的変数\n",
        "# 38人9講義で38*9=342変数\n",
        "x_ts = pq.Array.create(name='x', shape=(Tn, Sn), vartype='BINARY')\n",
        "\n",
        "# Hamiltonianの構築\n",
        "H = objective(x_ts)\n",
        "\n",
        "H += pq.Placeholder(label='lambda_0') * pq.Constraint(\n",
        "    hamiltonian=constraint_onlyone(x_ts), label='lambda_0')\n",
        "\n",
        "H += pq.Placeholder(label='lambda_1') * pq.Constraint(\n",
        "    hamiltonian=constraint_capacity(x_ts), label='lambda_1')\n",
        "\n",
        "H += pq.Placeholder(label='lambda_2') * pq.Constraint(\n",
        "    hamiltonian=constraint_unwanted(x_ts), label='lambda_2')"
      ],
      "execution_count": 13,
      "outputs": []
    },
    {
      "cell_type": "code",
      "metadata": {
        "id": "OYAlhj8zoJpQ",
        "colab": {
          "base_uri": "https://localhost:8080/"
        },
        "outputId": "683d716b-03e1-443b-8526-db39ed8ffebf"
      },
      "source": [
        "# 各制約項の重み係数を設定\n",
        "feed_dict = {key: 100 for key in ['lambda_0', 'lambda_1', 'lambda_2']}\n",
        "print(feed_dict)"
      ],
      "execution_count": 14,
      "outputs": [
        {
          "output_type": "stream",
          "text": [
            "{'lambda_0': 100, 'lambda_1': 100, 'lambda_2': 100}\n"
          ],
          "name": "stdout"
        }
      ]
    },
    {
      "cell_type": "markdown",
      "metadata": {
        "id": "kFg6QirVqpqu"
      },
      "source": [
        "### QUBO (Quadratic Unconstrained Binary Optimization)\n",
        "\n",
        "- QUBOは、組合せ最適化問題の表現形式であり、(疑似)量子アニーリングで問題を解くことができるようになる。\n",
        "- HamiltonianからQUBOへの変換は、PyQUBOのAPIを利用する。"
      ]
    },
    {
      "cell_type": "code",
      "metadata": {
        "id": "rsh8jpjHp1Wh"
      },
      "source": [
        "# QUBOへの変換\n",
        "model = H.compile()\n",
        "qubo, _ = model.to_qubo(feed_dict=feed_dict)"
      ],
      "execution_count": 15,
      "outputs": []
    },
    {
      "cell_type": "markdown",
      "metadata": {
        "id": "G_2dahiVql12"
      },
      "source": [
        "## 4. (疑似)量子アニーリング\n",
        "\n",
        "- ライブラリを利用して、(疑似)量子アニーリングを実行する。ここでは、【[OpenJij](https://github.com/OpenJij/OpenJij)】を利用する。\n",
        "- 利用できるライブラリ・環境として、他に【[D-Wave](https://docs.ocean.dwavesys.com/en/stable/index.html)】がある。"
      ]
    },
    {
      "cell_type": "code",
      "metadata": {
        "id": "5wv1fxt9xB6D"
      },
      "source": [
        "# num_reads: (疑似)量子アニーリングにおけるサンプリング回数\n",
        "num_reads = 100\n",
        "# num_sweeps: (疑似)量子アニーリングにおけるサンプリング時間\n",
        "num_sweeps = 1000"
      ],
      "execution_count": 16,
      "outputs": []
    },
    {
      "cell_type": "code",
      "metadata": {
        "id": "jO-Wri5cshwH"
      },
      "source": [
        "# サンプラー(実行モジュール)を作成\n",
        "# SQA: Simulated Quantum Annealing\n",
        "sampler = oj.SQASampler(num_reads=num_reads, num_sweeps=num_sweeps, trotter=20)"
      ],
      "execution_count": 17,
      "outputs": []
    },
    {
      "cell_type": "code",
      "metadata": {
        "id": "AU63sAz7trc6",
        "colab": {
          "base_uri": "https://localhost:8080/"
        },
        "outputId": "a97147d4-a739-4a83-e8b8-a11f62b559bb"
      },
      "source": [
        "%%time\n",
        "# (疑似)量子アニーリング実行\n",
        "sampleset = sampler.sample_qubo(Q=qubo)"
      ],
      "execution_count": 18,
      "outputs": [
        {
          "output_type": "stream",
          "text": [
            "CPU times: user 1min 15s, sys: 306 ms, total: 1min 15s\n",
            "Wall time: 39.4 s\n"
          ],
          "name": "stdout"
        }
      ]
    },
    {
      "cell_type": "code",
      "metadata": {
        "id": "vBrmoaRxs2zp"
      },
      "source": [
        "# 実行結果をデコード\n",
        "decoded = model.decode_sampleset(sampleset=sampleset, feed_dict=feed_dict)\n",
        "# 最良の解(最もエネルギーの小さい解)を取得\n",
        "best = min(decoded, key=lambda d: d.energy)"
      ],
      "execution_count": 19,
      "outputs": []
    },
    {
      "cell_type": "code",
      "metadata": {
        "id": "kLP5c3hJs7ZD",
        "colab": {
          "base_uri": "https://localhost:8080/"
        },
        "outputId": "3e021e41-20f4-44fa-e7ed-8a2071129254"
      },
      "source": [
        "# 最良解のエネルギー\n",
        "best.energy"
      ],
      "execution_count": 20,
      "outputs": [
        {
          "output_type": "execute_result",
          "data": {
            "text/plain": [
              "-53.0"
            ]
          },
          "metadata": {
            "tags": []
          },
          "execution_count": 20
        }
      ]
    },
    {
      "cell_type": "code",
      "metadata": {
        "id": "qkvuneZuuDeI",
        "colab": {
          "base_uri": "https://localhost:8080/"
        },
        "outputId": "3d883e98-3c4e-42dc-b700-8da755a69077"
      },
      "source": [
        "# 最良解が全制約を満たしているか確認\n",
        "best.constraints()"
      ],
      "execution_count": 21,
      "outputs": [
        {
          "output_type": "execute_result",
          "data": {
            "text/plain": [
              "{'lambda_0': (True, 0.0), 'lambda_1': (True, 0.0), 'lambda_2': (True, 0.0)}"
            ]
          },
          "metadata": {
            "tags": []
          },
          "execution_count": 21
        }
      ]
    },
    {
      "cell_type": "code",
      "metadata": {
        "id": "oal6ePI-uH6b"
      },
      "source": [
        "# TBD"
      ],
      "execution_count": null,
      "outputs": []
    },
    {
      "cell_type": "markdown",
      "metadata": {
        "id": "ymfQj1-hKrbF"
      },
      "source": [
        "## 5. 展望"
      ]
    },
    {
      "cell_type": "code",
      "metadata": {
        "id": "M1b_iCd6KtL1"
      },
      "source": [
        "# TBD"
      ],
      "execution_count": null,
      "outputs": []
    }
  ]
}